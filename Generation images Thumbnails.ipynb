{
 "cells": [
  {
   "cell_type": "code",
   "execution_count": 1,
   "id": "fd22e91e",
   "metadata": {},
   "outputs": [],
   "source": [
    "# importing Image class from PIL package\n",
    "from PIL import Image\n",
    "from pathlib import Path"
   ]
  },
  {
   "cell_type": "code",
   "execution_count": 2,
   "id": "6fd37dee",
   "metadata": {},
   "outputs": [],
   "source": [
    "def tnails(src, dest, filename,size=(1000,1000)):\n",
    "    try:\n",
    "        image = Image.open(src+filename).convert(\"RGB\")\n",
    "        image.thumbnail(size)\n",
    "        dst = (dest+filename).split('.')[0] + '.png'\n",
    "        image.save(dst)\n",
    "    except IOError:\n",
    "        pass"
   ]
  },
  {
   "cell_type": "code",
   "execution_count": 9,
   "id": "79867706",
   "metadata": {},
   "outputs": [],
   "source": [
    "import os\n",
    "src = \"/home/openopse/Documents/GitHub/data/MS/\"\n",
    "dest = src+'thumbnails/'\n",
    "Path(dest).mkdir(parents=True, exist_ok=True)\n",
    "Image.MAX_IMAGE_PIXELS = None"
   ]
  },
  {
   "cell_type": "code",
   "execution_count": 11,
   "id": "e45d11d5",
   "metadata": {},
   "outputs": [
    {
     "name": "stdout",
     "output_type": "stream",
     "text": [
      "20210805_P1_MS.tif\n",
      "20210805_P11_MS.tif\n",
      "20210805_P9_MS.tif\n",
      "20210805_P8_MS.tif\n",
      "20210805_P5_MS.tif\n",
      "20210805_P4_MS.tif\n",
      "20210805_P10_MS.tif\n"
     ]
    }
   ],
   "source": [
    "# Get list of all files only in the given directory\n",
    "list_of_files = filter( lambda x: os.path.isfile(os.path.join(src, x)),\n",
    "                        os.listdir(src) )\n",
    "# Create a list of files in directory along with the size\n",
    "files_with_size = [ (file_name, os.stat(os.path.join(src, file_name)).st_size) \n",
    "                    for file_name in list_of_files  ]\n",
    "# Iterate over list of files along with size \n",
    "# and print them one by one.\n",
    "for file_name, size in files_with_size:\n",
    "    print(file_name)\n",
    "    tnails(src, dest, file_name,size=(1000,1000)) "
   ]
  },
  {
   "cell_type": "code",
   "execution_count": null,
   "id": "d98dec22",
   "metadata": {},
   "outputs": [],
   "source": []
  }
 ],
 "metadata": {
  "kernelspec": {
   "display_name": "Python 3 (ipykernel)",
   "language": "python",
   "name": "python3"
  },
  "language_info": {
   "codemirror_mode": {
    "name": "ipython",
    "version": 3
   },
   "file_extension": ".py",
   "mimetype": "text/x-python",
   "name": "python",
   "nbconvert_exporter": "python",
   "pygments_lexer": "ipython3",
   "version": "3.8.8"
  }
 },
 "nbformat": 4,
 "nbformat_minor": 5
}
