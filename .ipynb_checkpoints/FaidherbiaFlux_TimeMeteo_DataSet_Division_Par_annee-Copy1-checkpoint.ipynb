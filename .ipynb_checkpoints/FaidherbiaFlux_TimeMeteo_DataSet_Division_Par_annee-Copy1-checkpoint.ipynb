{
 "cells": [
  {
   "cell_type": "markdown",
   "metadata": {
    "id": "mCD5CSk4iMyj"
   },
   "source": [
    "# Traitement du dataset"
   ]
  },
  {
   "cell_type": "code",
   "execution_count": 1,
   "metadata": {
    "id": "4CGFYDLOh_QU"
   },
   "outputs": [],
   "source": [
    "import numpy as np\n",
    "import pandas as pd\n",
    "import datetime"
   ]
  },
  {
   "cell_type": "code",
   "execution_count": 2,
   "metadata": {
    "colab": {
     "base_uri": "https://localhost:8080/",
     "height": 343
    },
    "id": "rrsJLWY-n1pg",
    "outputId": "eb08af54-908f-49ea-b148-56946c6ae8d8"
   },
   "outputs": [
    {
     "data": {
      "text/html": [
       "<div>\n",
       "<style scoped>\n",
       "    .dataframe tbody tr th:only-of-type {\n",
       "        vertical-align: middle;\n",
       "    }\n",
       "\n",
       "    .dataframe tbody tr th {\n",
       "        vertical-align: top;\n",
       "    }\n",
       "\n",
       "    .dataframe thead th {\n",
       "        text-align: right;\n",
       "    }\n",
       "</style>\n",
       "<table border=\"1\" class=\"dataframe\">\n",
       "  <thead>\n",
       "    <tr style=\"text-align: right;\">\n",
       "      <th></th>\n",
       "      <th>DateSemih</th>\n",
       "      <th>Rn_20m_Wm2</th>\n",
       "      <th>PARtot_20m_mE</th>\n",
       "      <th>Tair_20m_degC</th>\n",
       "      <th>Rh_20m_pc</th>\n",
       "      <th>WindSpeed_20m_ms1</th>\n",
       "      <th>WindDir_20m_deg</th>\n",
       "      <th>Rain_mmsemih</th>\n",
       "      <th>P_20m_hPa</th>\n",
       "      <th>Tair_2m_SmallAnt_degC</th>\n",
       "      <th>Rh_2m_SmallAnt_pc</th>\n",
       "      <th>WS_4.5m_SmallAntSonic_ms_filt</th>\n",
       "    </tr>\n",
       "  </thead>\n",
       "  <tbody>\n",
       "    <tr>\n",
       "      <th>0</th>\n",
       "      <td>1514765700</td>\n",
       "      <td>NaN</td>\n",
       "      <td>NaN</td>\n",
       "      <td>NaN</td>\n",
       "      <td>NaN</td>\n",
       "      <td>NaN</td>\n",
       "      <td>NaN</td>\n",
       "      <td>NaN</td>\n",
       "      <td>NaN</td>\n",
       "      <td>NaN</td>\n",
       "      <td>NaN</td>\n",
       "      <td>NaN</td>\n",
       "    </tr>\n",
       "    <tr>\n",
       "      <th>1</th>\n",
       "      <td>1514767500</td>\n",
       "      <td>NaN</td>\n",
       "      <td>NaN</td>\n",
       "      <td>NaN</td>\n",
       "      <td>NaN</td>\n",
       "      <td>NaN</td>\n",
       "      <td>NaN</td>\n",
       "      <td>NaN</td>\n",
       "      <td>NaN</td>\n",
       "      <td>NaN</td>\n",
       "      <td>NaN</td>\n",
       "      <td>NaN</td>\n",
       "    </tr>\n",
       "    <tr>\n",
       "      <th>2</th>\n",
       "      <td>1514769300</td>\n",
       "      <td>NaN</td>\n",
       "      <td>NaN</td>\n",
       "      <td>NaN</td>\n",
       "      <td>NaN</td>\n",
       "      <td>NaN</td>\n",
       "      <td>NaN</td>\n",
       "      <td>NaN</td>\n",
       "      <td>NaN</td>\n",
       "      <td>NaN</td>\n",
       "      <td>NaN</td>\n",
       "      <td>NaN</td>\n",
       "    </tr>\n",
       "    <tr>\n",
       "      <th>3</th>\n",
       "      <td>1514771100</td>\n",
       "      <td>NaN</td>\n",
       "      <td>NaN</td>\n",
       "      <td>NaN</td>\n",
       "      <td>NaN</td>\n",
       "      <td>NaN</td>\n",
       "      <td>NaN</td>\n",
       "      <td>NaN</td>\n",
       "      <td>NaN</td>\n",
       "      <td>NaN</td>\n",
       "      <td>NaN</td>\n",
       "      <td>NaN</td>\n",
       "    </tr>\n",
       "    <tr>\n",
       "      <th>4</th>\n",
       "      <td>1514772900</td>\n",
       "      <td>NaN</td>\n",
       "      <td>NaN</td>\n",
       "      <td>NaN</td>\n",
       "      <td>NaN</td>\n",
       "      <td>NaN</td>\n",
       "      <td>NaN</td>\n",
       "      <td>NaN</td>\n",
       "      <td>NaN</td>\n",
       "      <td>NaN</td>\n",
       "      <td>NaN</td>\n",
       "      <td>NaN</td>\n",
       "    </tr>\n",
       "  </tbody>\n",
       "</table>\n",
       "</div>"
      ],
      "text/plain": [
       "    DateSemih  Rn_20m_Wm2  PARtot_20m_mE  Tair_20m_degC  Rh_20m_pc  \\\n",
       "0  1514765700         NaN            NaN            NaN        NaN   \n",
       "1  1514767500         NaN            NaN            NaN        NaN   \n",
       "2  1514769300         NaN            NaN            NaN        NaN   \n",
       "3  1514771100         NaN            NaN            NaN        NaN   \n",
       "4  1514772900         NaN            NaN            NaN        NaN   \n",
       "\n",
       "   WindSpeed_20m_ms1  WindDir_20m_deg  Rain_mmsemih  P_20m_hPa  \\\n",
       "0                NaN              NaN           NaN        NaN   \n",
       "1                NaN              NaN           NaN        NaN   \n",
       "2                NaN              NaN           NaN        NaN   \n",
       "3                NaN              NaN           NaN        NaN   \n",
       "4                NaN              NaN           NaN        NaN   \n",
       "\n",
       "   Tair_2m_SmallAnt_degC  Rh_2m_SmallAnt_pc  WS_4.5m_SmallAntSonic_ms_filt  \n",
       "0                    NaN                NaN                            NaN  \n",
       "1                    NaN                NaN                            NaN  \n",
       "2                    NaN                NaN                            NaN  \n",
       "3                    NaN                NaN                            NaN  \n",
       "4                    NaN                NaN                            NaN  "
      ]
     },
     "execution_count": 2,
     "metadata": {},
     "output_type": "execute_result"
    }
   ],
   "source": [
    "data= pd.read_csv(\"/home/openopse/Documents/OPENOPSE/data/Olivier Roupsard/updated_new/OpenOPSE_Roupsard/OutdataFFlux_OpenOPSE_TimeMeteo.csv\")\n",
    "data.head()"
   ]
  },
  {
   "cell_type": "code",
   "execution_count": 3,
   "metadata": {},
   "outputs": [],
   "source": [
    "dates = [str(datetime.datetime.fromtimestamp(x)) for x in data.DateSemih]\n",
    "data['DateSemih']= dates\n"
   ]
  },
  {
   "cell_type": "code",
   "execution_count": 4,
   "metadata": {},
   "outputs": [],
   "source": [
    "annees = [x.split('-',1)[0] for x in data.DateSemih]\n",
    "data['Year']= annees\n",
    "data=data.astype({'Year': 'int64'})"
   ]
  },
  {
   "cell_type": "code",
   "execution_count": 5,
   "metadata": {},
   "outputs": [],
   "source": [
    "Date_fac = [x.split(' ',1)[0] for x in data.DateSemih]\n",
    "data['Date_fac']= Date_fac"
   ]
  },
  {
   "cell_type": "code",
   "execution_count": 6,
   "metadata": {},
   "outputs": [],
   "source": [
    "Hour_fac = [x.split(' ',1)[1] for x in data.DateSemih]\n",
    "data['Hour_fac']= Hour_fac"
   ]
  },
  {
   "cell_type": "code",
   "execution_count": 7,
   "metadata": {},
   "outputs": [
    {
     "data": {
      "text/plain": [
       "Index(['DateSemih', 'Rn_20m_Wm2', 'PARtot_20m_mE', 'Tair_20m_degC',\n",
       "       'Rh_20m_pc', 'WindSpeed_20m_ms1', 'WindDir_20m_deg', 'Rain_mmsemih',\n",
       "       'P_20m_hPa', 'Tair_2m_SmallAnt_degC', 'Rh_2m_SmallAnt_pc',\n",
       "       'WS_4.5m_SmallAntSonic_ms_filt', 'Year', 'Date_fac', 'Hour_fac'],\n",
       "      dtype='object')"
      ]
     },
     "execution_count": 7,
     "metadata": {},
     "output_type": "execute_result"
    }
   ],
   "source": [
    "data.columns"
   ]
  },
  {
   "cell_type": "code",
   "execution_count": 8,
   "metadata": {},
   "outputs": [
    {
     "data": {
      "text/html": [
       "<div>\n",
       "<style scoped>\n",
       "    .dataframe tbody tr th:only-of-type {\n",
       "        vertical-align: middle;\n",
       "    }\n",
       "\n",
       "    .dataframe tbody tr th {\n",
       "        vertical-align: top;\n",
       "    }\n",
       "\n",
       "    .dataframe thead th {\n",
       "        text-align: right;\n",
       "    }\n",
       "</style>\n",
       "<table border=\"1\" class=\"dataframe\">\n",
       "  <thead>\n",
       "    <tr style=\"text-align: right;\">\n",
       "      <th></th>\n",
       "      <th>Year</th>\n",
       "      <th>Date_fac</th>\n",
       "      <th>Hour_fac</th>\n",
       "      <th>DateSemih</th>\n",
       "      <th>Rn_20m_Wm2</th>\n",
       "      <th>PARtot_20m_mE</th>\n",
       "      <th>Tair_20m_degC</th>\n",
       "      <th>Rh_20m_pc</th>\n",
       "      <th>WindSpeed_20m_ms1</th>\n",
       "      <th>WindDir_20m_deg</th>\n",
       "      <th>Rain_mmsemih</th>\n",
       "      <th>P_20m_hPa</th>\n",
       "      <th>Tair_2m_SmallAnt_degC</th>\n",
       "      <th>Rh_2m_SmallAnt_pc</th>\n",
       "      <th>WS_4.5m_SmallAntSonic_ms_filt</th>\n",
       "    </tr>\n",
       "  </thead>\n",
       "  <tbody>\n",
       "    <tr>\n",
       "      <th>0</th>\n",
       "      <td>2018</td>\n",
       "      <td>2018-01-01</td>\n",
       "      <td>00:15:00</td>\n",
       "      <td>2018-01-01 00:15:00</td>\n",
       "      <td>NaN</td>\n",
       "      <td>NaN</td>\n",
       "      <td>NaN</td>\n",
       "      <td>NaN</td>\n",
       "      <td>NaN</td>\n",
       "      <td>NaN</td>\n",
       "      <td>NaN</td>\n",
       "      <td>NaN</td>\n",
       "      <td>NaN</td>\n",
       "      <td>NaN</td>\n",
       "      <td>NaN</td>\n",
       "    </tr>\n",
       "    <tr>\n",
       "      <th>1</th>\n",
       "      <td>2018</td>\n",
       "      <td>2018-01-01</td>\n",
       "      <td>00:45:00</td>\n",
       "      <td>2018-01-01 00:45:00</td>\n",
       "      <td>NaN</td>\n",
       "      <td>NaN</td>\n",
       "      <td>NaN</td>\n",
       "      <td>NaN</td>\n",
       "      <td>NaN</td>\n",
       "      <td>NaN</td>\n",
       "      <td>NaN</td>\n",
       "      <td>NaN</td>\n",
       "      <td>NaN</td>\n",
       "      <td>NaN</td>\n",
       "      <td>NaN</td>\n",
       "    </tr>\n",
       "    <tr>\n",
       "      <th>2</th>\n",
       "      <td>2018</td>\n",
       "      <td>2018-01-01</td>\n",
       "      <td>01:15:00</td>\n",
       "      <td>2018-01-01 01:15:00</td>\n",
       "      <td>NaN</td>\n",
       "      <td>NaN</td>\n",
       "      <td>NaN</td>\n",
       "      <td>NaN</td>\n",
       "      <td>NaN</td>\n",
       "      <td>NaN</td>\n",
       "      <td>NaN</td>\n",
       "      <td>NaN</td>\n",
       "      <td>NaN</td>\n",
       "      <td>NaN</td>\n",
       "      <td>NaN</td>\n",
       "    </tr>\n",
       "    <tr>\n",
       "      <th>3</th>\n",
       "      <td>2018</td>\n",
       "      <td>2018-01-01</td>\n",
       "      <td>01:45:00</td>\n",
       "      <td>2018-01-01 01:45:00</td>\n",
       "      <td>NaN</td>\n",
       "      <td>NaN</td>\n",
       "      <td>NaN</td>\n",
       "      <td>NaN</td>\n",
       "      <td>NaN</td>\n",
       "      <td>NaN</td>\n",
       "      <td>NaN</td>\n",
       "      <td>NaN</td>\n",
       "      <td>NaN</td>\n",
       "      <td>NaN</td>\n",
       "      <td>NaN</td>\n",
       "    </tr>\n",
       "    <tr>\n",
       "      <th>4</th>\n",
       "      <td>2018</td>\n",
       "      <td>2018-01-01</td>\n",
       "      <td>02:15:00</td>\n",
       "      <td>2018-01-01 02:15:00</td>\n",
       "      <td>NaN</td>\n",
       "      <td>NaN</td>\n",
       "      <td>NaN</td>\n",
       "      <td>NaN</td>\n",
       "      <td>NaN</td>\n",
       "      <td>NaN</td>\n",
       "      <td>NaN</td>\n",
       "      <td>NaN</td>\n",
       "      <td>NaN</td>\n",
       "      <td>NaN</td>\n",
       "      <td>NaN</td>\n",
       "    </tr>\n",
       "  </tbody>\n",
       "</table>\n",
       "</div>"
      ],
      "text/plain": [
       "   Year    Date_fac  Hour_fac            DateSemih  Rn_20m_Wm2  PARtot_20m_mE  \\\n",
       "0  2018  2018-01-01  00:15:00  2018-01-01 00:15:00         NaN            NaN   \n",
       "1  2018  2018-01-01  00:45:00  2018-01-01 00:45:00         NaN            NaN   \n",
       "2  2018  2018-01-01  01:15:00  2018-01-01 01:15:00         NaN            NaN   \n",
       "3  2018  2018-01-01  01:45:00  2018-01-01 01:45:00         NaN            NaN   \n",
       "4  2018  2018-01-01  02:15:00  2018-01-01 02:15:00         NaN            NaN   \n",
       "\n",
       "   Tair_20m_degC  Rh_20m_pc  WindSpeed_20m_ms1  WindDir_20m_deg  Rain_mmsemih  \\\n",
       "0            NaN        NaN                NaN              NaN           NaN   \n",
       "1            NaN        NaN                NaN              NaN           NaN   \n",
       "2            NaN        NaN                NaN              NaN           NaN   \n",
       "3            NaN        NaN                NaN              NaN           NaN   \n",
       "4            NaN        NaN                NaN              NaN           NaN   \n",
       "\n",
       "   P_20m_hPa  Tair_2m_SmallAnt_degC  Rh_2m_SmallAnt_pc  \\\n",
       "0        NaN                    NaN                NaN   \n",
       "1        NaN                    NaN                NaN   \n",
       "2        NaN                    NaN                NaN   \n",
       "3        NaN                    NaN                NaN   \n",
       "4        NaN                    NaN                NaN   \n",
       "\n",
       "   WS_4.5m_SmallAntSonic_ms_filt  \n",
       "0                            NaN  \n",
       "1                            NaN  \n",
       "2                            NaN  \n",
       "3                            NaN  \n",
       "4                            NaN  "
      ]
     },
     "execution_count": 8,
     "metadata": {},
     "output_type": "execute_result"
    }
   ],
   "source": [
    "\n",
    "data=data[['Year','Date_fac','Hour_fac','DateSemih', 'Rn_20m_Wm2', 'PARtot_20m_mE', 'Tair_20m_degC',\n",
    "       'Rh_20m_pc', 'WindSpeed_20m_ms1', 'WindDir_20m_deg', 'Rain_mmsemih',\n",
    "       'P_20m_hPa', 'Tair_2m_SmallAnt_degC', 'Rh_2m_SmallAnt_pc',\n",
    "       'WS_4.5m_SmallAntSonic_ms_filt']]\n",
    "\n",
    "data.head()"
   ]
  },
  {
   "cell_type": "markdown",
   "metadata": {
    "id": "vZ0bGpfFzD5O"
   },
   "source": [
    "# creation des dataframe"
   ]
  },
  {
   "cell_type": "markdown",
   "metadata": {
    "id": "E5ueO8GnY5Yk"
   },
   "source": [
    "## segmentation du jeu de données"
   ]
  },
  {
   "cell_type": "code",
   "execution_count": 9,
   "metadata": {},
   "outputs": [
    {
     "data": {
      "text/plain": [
       "array([2018, 2019, 2020, 2021, 2022])"
      ]
     },
     "execution_count": 9,
     "metadata": {},
     "output_type": "execute_result"
    }
   ],
   "source": [
    "annee = data['Year'].unique()\n",
    "annee"
   ]
  },
  {
   "cell_type": "markdown",
   "metadata": {
    "id": "JLG6n6rzjJG3"
   },
   "source": [
    "## sauvegarder les jeux de données segmentés"
   ]
  },
  {
   "cell_type": "code",
   "execution_count": 10,
   "metadata": {},
   "outputs": [],
   "source": [
    "for y in annee:\n",
    "    save = data[data['Year'] == y]\n",
    "    name = '/home/openopse/Documents/OPENOPSE/data/Olivier Roupsard/updated_new/OpenOPSE_Roupsard/per Year/'+str(y)+'/OutdataFFlux_OpenOPSE_TimeMeteo_'+str(y)+'.csv'\n",
    "    save.to_csv(name, index=False)"
   ]
  },
  {
   "cell_type": "code",
   "execution_count": null,
   "metadata": {},
   "outputs": [],
   "source": []
  }
 ],
 "metadata": {
  "colab": {
   "collapsed_sections": [
    "gn4WZtqwY0sO",
    "E5ueO8GnY5Yk",
    "JLG6n6rzjJG3",
    "SfKo-zdW1CQX",
    "eqZi-3eXjD7z",
    "uOuRLzEQgHG0",
    "e3mdHiH9sLco",
    "3l4evo5isGk5",
    "eVSJZPAosAup",
    "JNyjQK91r6Jx",
    "41uOhnmKrzSX"
   ],
   "name": "FaidherbiaFlux DataSet.ipynb",
   "provenance": []
  },
  "kernelspec": {
   "display_name": "Python 3 (ipykernel)",
   "language": "python",
   "name": "python3"
  },
  "language_info": {
   "codemirror_mode": {
    "name": "ipython",
    "version": 3
   },
   "file_extension": ".py",
   "mimetype": "text/x-python",
   "name": "python",
   "nbconvert_exporter": "python",
   "pygments_lexer": "ipython3",
   "version": "3.8.8"
  }
 },
 "nbformat": 4,
 "nbformat_minor": 1
}
