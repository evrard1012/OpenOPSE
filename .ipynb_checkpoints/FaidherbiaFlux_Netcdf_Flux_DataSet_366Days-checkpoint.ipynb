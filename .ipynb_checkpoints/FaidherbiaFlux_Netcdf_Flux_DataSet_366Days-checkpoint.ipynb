{
 "cells": [
  {
   "cell_type": "markdown",
   "metadata": {
    "id": "mCD5CSk4iMyj"
   },
   "source": [
    "# Traitement du dataset"
   ]
  },
  {
   "cell_type": "code",
   "execution_count": 1,
   "metadata": {
    "id": "4CGFYDLOh_QU"
   },
   "outputs": [],
   "source": [
    "import numpy as np\n",
    "import pandas as pd"
   ]
  },
  {
   "cell_type": "code",
   "execution_count": 2,
   "metadata": {},
   "outputs": [],
   "source": [
    "file_year='2019'\n",
    "path = '/home/openopse/Documents/OPENOPSE/data/Olivier Roupsard/updated_new/netcdf/'"
   ]
  },
  {
   "cell_type": "code",
   "execution_count": 3,
   "metadata": {},
   "outputs": [
    {
     "data": {
      "text/html": [
       "<div>\n",
       "<style scoped>\n",
       "    .dataframe tbody tr th:only-of-type {\n",
       "        vertical-align: middle;\n",
       "    }\n",
       "\n",
       "    .dataframe tbody tr th {\n",
       "        vertical-align: top;\n",
       "    }\n",
       "\n",
       "    .dataframe thead th {\n",
       "        text-align: right;\n",
       "    }\n",
       "</style>\n",
       "<table border=\"1\" class=\"dataframe\">\n",
       "  <thead>\n",
       "    <tr style=\"text-align: right;\">\n",
       "      <th></th>\n",
       "      <th>Year</th>\n",
       "      <th>Date_fac</th>\n",
       "      <th>Hour_fac</th>\n",
       "      <th>DateSemih</th>\n",
       "      <th>NEE_micmolm2s_20m</th>\n",
       "      <th>LE_Wm2_20m</th>\n",
       "      <th>H_Wm2_20m</th>\n",
       "      <th>Ustar_20m</th>\n",
       "      <th>NEE_micmolm2s_4.5m</th>\n",
       "      <th>LE_Wm2_4.5m</th>\n",
       "      <th>H_Wm2_4.5m</th>\n",
       "      <th>Ustar_ms_4.5m</th>\n",
       "    </tr>\n",
       "  </thead>\n",
       "  <tbody>\n",
       "    <tr>\n",
       "      <th>0</th>\n",
       "      <td>2019</td>\n",
       "      <td>2019-01-01</td>\n",
       "      <td>00:15:00</td>\n",
       "      <td>2019-01-01 00:15:00</td>\n",
       "      <td>NaN</td>\n",
       "      <td>NaN</td>\n",
       "      <td>NaN</td>\n",
       "      <td>0.28285</td>\n",
       "      <td>NaN</td>\n",
       "      <td>NaN</td>\n",
       "      <td>NaN</td>\n",
       "      <td>NaN</td>\n",
       "    </tr>\n",
       "    <tr>\n",
       "      <th>1</th>\n",
       "      <td>2019</td>\n",
       "      <td>2019-01-01</td>\n",
       "      <td>00:45:00</td>\n",
       "      <td>2019-01-01 00:45:00</td>\n",
       "      <td>NaN</td>\n",
       "      <td>NaN</td>\n",
       "      <td>-16.5100</td>\n",
       "      <td>0.23669</td>\n",
       "      <td>NaN</td>\n",
       "      <td>NaN</td>\n",
       "      <td>NaN</td>\n",
       "      <td>NaN</td>\n",
       "    </tr>\n",
       "    <tr>\n",
       "      <th>2</th>\n",
       "      <td>2019</td>\n",
       "      <td>2019-01-01</td>\n",
       "      <td>01:15:00</td>\n",
       "      <td>2019-01-01 01:15:00</td>\n",
       "      <td>NaN</td>\n",
       "      <td>2.4616</td>\n",
       "      <td>NaN</td>\n",
       "      <td>0.24493</td>\n",
       "      <td>0.5191</td>\n",
       "      <td>NaN</td>\n",
       "      <td>-12.5561</td>\n",
       "      <td>0.15355</td>\n",
       "    </tr>\n",
       "    <tr>\n",
       "      <th>3</th>\n",
       "      <td>2019</td>\n",
       "      <td>2019-01-01</td>\n",
       "      <td>01:45:00</td>\n",
       "      <td>2019-01-01 01:45:00</td>\n",
       "      <td>0.578</td>\n",
       "      <td>4.0454</td>\n",
       "      <td>-12.1140</td>\n",
       "      <td>0.17751</td>\n",
       "      <td>NaN</td>\n",
       "      <td>NaN</td>\n",
       "      <td>-12.5639</td>\n",
       "      <td>0.12627</td>\n",
       "    </tr>\n",
       "    <tr>\n",
       "      <th>4</th>\n",
       "      <td>2019</td>\n",
       "      <td>2019-01-01</td>\n",
       "      <td>02:15:00</td>\n",
       "      <td>2019-01-01 02:15:00</td>\n",
       "      <td>NaN</td>\n",
       "      <td>3.1996</td>\n",
       "      <td>-8.5414</td>\n",
       "      <td>0.14603</td>\n",
       "      <td>NaN</td>\n",
       "      <td>NaN</td>\n",
       "      <td>NaN</td>\n",
       "      <td>NaN</td>\n",
       "    </tr>\n",
       "  </tbody>\n",
       "</table>\n",
       "</div>"
      ],
      "text/plain": [
       "   Year    Date_fac  Hour_fac            DateSemih  NEE_micmolm2s_20m  \\\n",
       "0  2019  2019-01-01  00:15:00  2019-01-01 00:15:00                NaN   \n",
       "1  2019  2019-01-01  00:45:00  2019-01-01 00:45:00                NaN   \n",
       "2  2019  2019-01-01  01:15:00  2019-01-01 01:15:00                NaN   \n",
       "3  2019  2019-01-01  01:45:00  2019-01-01 01:45:00              0.578   \n",
       "4  2019  2019-01-01  02:15:00  2019-01-01 02:15:00                NaN   \n",
       "\n",
       "   LE_Wm2_20m  H_Wm2_20m  Ustar_20m  NEE_micmolm2s_4.5m  LE_Wm2_4.5m  \\\n",
       "0         NaN        NaN    0.28285                 NaN          NaN   \n",
       "1         NaN   -16.5100    0.23669                 NaN          NaN   \n",
       "2      2.4616        NaN    0.24493              0.5191          NaN   \n",
       "3      4.0454   -12.1140    0.17751                 NaN          NaN   \n",
       "4      3.1996    -8.5414    0.14603                 NaN          NaN   \n",
       "\n",
       "   H_Wm2_4.5m  Ustar_ms_4.5m  \n",
       "0         NaN            NaN  \n",
       "1         NaN            NaN  \n",
       "2    -12.5561        0.15355  \n",
       "3    -12.5639        0.12627  \n",
       "4         NaN            NaN  "
      ]
     },
     "execution_count": 3,
     "metadata": {},
     "output_type": "execute_result"
    }
   ],
   "source": [
    "data= pd.read_csv(\"/home/openopse/Documents/OPENOPSE/data/Olivier Roupsard/updated_new/OpenOPSE_Roupsard/per Year/2019/OutdataFFlux_OpenOPSE_Flux_2019.csv\")\n",
    "data.head()"
   ]
  },
  {
   "cell_type": "code",
   "execution_count": 4,
   "metadata": {},
   "outputs": [],
   "source": [
    "data = data.fillna(float('nan'))"
   ]
  },
  {
   "cell_type": "code",
   "execution_count": 5,
   "metadata": {
    "colab": {
     "base_uri": "https://localhost:8080/",
     "height": 256
    },
    "id": "NReYKqiJyJq2",
    "outputId": "2bfea58e-4034-423d-b1b6-0d73bb66a0c6"
   },
   "outputs": [
    {
     "data": {
      "text/html": [
       "<div>\n",
       "<style scoped>\n",
       "    .dataframe tbody tr th:only-of-type {\n",
       "        vertical-align: middle;\n",
       "    }\n",
       "\n",
       "    .dataframe tbody tr th {\n",
       "        vertical-align: top;\n",
       "    }\n",
       "\n",
       "    .dataframe thead th {\n",
       "        text-align: right;\n",
       "    }\n",
       "</style>\n",
       "<table border=\"1\" class=\"dataframe\">\n",
       "  <thead>\n",
       "    <tr style=\"text-align: right;\">\n",
       "      <th></th>\n",
       "      <th>Year</th>\n",
       "      <th>Date_fac</th>\n",
       "      <th>Hour_fac</th>\n",
       "      <th>DateSemih</th>\n",
       "      <th>NEE_micmolm2s_20m</th>\n",
       "      <th>LE_Wm2_20m</th>\n",
       "      <th>H_Wm2_20m</th>\n",
       "      <th>Ustar_20m</th>\n",
       "      <th>NEE_micmolm2s_4.5m</th>\n",
       "      <th>LE_Wm2_4.5m</th>\n",
       "      <th>H_Wm2_4.5m</th>\n",
       "      <th>Ustar_ms_4.5m</th>\n",
       "    </tr>\n",
       "  </thead>\n",
       "  <tbody>\n",
       "    <tr>\n",
       "      <th>0</th>\n",
       "      <td>2019</td>\n",
       "      <td>2019-01-01</td>\n",
       "      <td>00:15:00</td>\n",
       "      <td>2019-01-01 00:15:00</td>\n",
       "      <td>NaN</td>\n",
       "      <td>NaN</td>\n",
       "      <td>NaN</td>\n",
       "      <td>0.28285</td>\n",
       "      <td>NaN</td>\n",
       "      <td>NaN</td>\n",
       "      <td>NaN</td>\n",
       "      <td>NaN</td>\n",
       "    </tr>\n",
       "    <tr>\n",
       "      <th>1</th>\n",
       "      <td>2019</td>\n",
       "      <td>2019-01-01</td>\n",
       "      <td>00:45:00</td>\n",
       "      <td>2019-01-01 00:45:00</td>\n",
       "      <td>NaN</td>\n",
       "      <td>NaN</td>\n",
       "      <td>-16.5100</td>\n",
       "      <td>0.23669</td>\n",
       "      <td>NaN</td>\n",
       "      <td>NaN</td>\n",
       "      <td>NaN</td>\n",
       "      <td>NaN</td>\n",
       "    </tr>\n",
       "    <tr>\n",
       "      <th>2</th>\n",
       "      <td>2019</td>\n",
       "      <td>2019-01-01</td>\n",
       "      <td>01:15:00</td>\n",
       "      <td>2019-01-01 01:15:00</td>\n",
       "      <td>NaN</td>\n",
       "      <td>2.4616</td>\n",
       "      <td>NaN</td>\n",
       "      <td>0.24493</td>\n",
       "      <td>0.5191</td>\n",
       "      <td>NaN</td>\n",
       "      <td>-12.5561</td>\n",
       "      <td>0.15355</td>\n",
       "    </tr>\n",
       "    <tr>\n",
       "      <th>3</th>\n",
       "      <td>2019</td>\n",
       "      <td>2019-01-01</td>\n",
       "      <td>01:45:00</td>\n",
       "      <td>2019-01-01 01:45:00</td>\n",
       "      <td>0.578</td>\n",
       "      <td>4.0454</td>\n",
       "      <td>-12.1140</td>\n",
       "      <td>0.17751</td>\n",
       "      <td>NaN</td>\n",
       "      <td>NaN</td>\n",
       "      <td>-12.5639</td>\n",
       "      <td>0.12627</td>\n",
       "    </tr>\n",
       "    <tr>\n",
       "      <th>4</th>\n",
       "      <td>2019</td>\n",
       "      <td>2019-01-01</td>\n",
       "      <td>02:15:00</td>\n",
       "      <td>2019-01-01 02:15:00</td>\n",
       "      <td>NaN</td>\n",
       "      <td>3.1996</td>\n",
       "      <td>-8.5414</td>\n",
       "      <td>0.14603</td>\n",
       "      <td>NaN</td>\n",
       "      <td>NaN</td>\n",
       "      <td>NaN</td>\n",
       "      <td>NaN</td>\n",
       "    </tr>\n",
       "  </tbody>\n",
       "</table>\n",
       "</div>"
      ],
      "text/plain": [
       "   Year    Date_fac  Hour_fac            DateSemih  NEE_micmolm2s_20m  \\\n",
       "0  2019  2019-01-01  00:15:00  2019-01-01 00:15:00                NaN   \n",
       "1  2019  2019-01-01  00:45:00  2019-01-01 00:45:00                NaN   \n",
       "2  2019  2019-01-01  01:15:00  2019-01-01 01:15:00                NaN   \n",
       "3  2019  2019-01-01  01:45:00  2019-01-01 01:45:00              0.578   \n",
       "4  2019  2019-01-01  02:15:00  2019-01-01 02:15:00                NaN   \n",
       "\n",
       "   LE_Wm2_20m  H_Wm2_20m  Ustar_20m  NEE_micmolm2s_4.5m  LE_Wm2_4.5m  \\\n",
       "0         NaN        NaN    0.28285                 NaN          NaN   \n",
       "1         NaN   -16.5100    0.23669                 NaN          NaN   \n",
       "2      2.4616        NaN    0.24493              0.5191          NaN   \n",
       "3      4.0454   -12.1140    0.17751                 NaN          NaN   \n",
       "4      3.1996    -8.5414    0.14603                 NaN          NaN   \n",
       "\n",
       "   H_Wm2_4.5m  Ustar_ms_4.5m  \n",
       "0         NaN            NaN  \n",
       "1         NaN            NaN  \n",
       "2    -12.5561        0.15355  \n",
       "3    -12.5639        0.12627  \n",
       "4         NaN            NaN  "
      ]
     },
     "execution_count": 5,
     "metadata": {},
     "output_type": "execute_result"
    }
   ],
   "source": [
    "data.head()"
   ]
  },
  {
   "cell_type": "markdown",
   "metadata": {
    "id": "SlL5g-_p0OEK"
   },
   "source": [
    "# creation NETCDF"
   ]
  },
  {
   "cell_type": "markdown",
   "metadata": {
    "id": "SfKo-zdW1CQX"
   },
   "source": [
    "## Ouverture des fichiers, création de nouveaux jeux de données\n",
    "\n",
    "Créons un nouveau fichier netCDF vide nommé 'new.nc' dans le répertoire racine de notre projet 'data', ouvert pour l'écriture.\n",
    "\n",
    "Attention, ouvrir un fichier avec 'w' écrasera toutes les données existantes (à moins que `clobber=False` soit utilisé, auquel cas une exception est levée si le fichier existe déjà).\n",
    "\n",
    "- `mode='r'` est la valeur par défaut.\n",
    "- `mode='a'` ouvre un fichier existant et permet l'ajout (n'écrase pas les données existantes)\n",
    "- `format` peut être l'un des `NETCDF3_CLASSIC`, `NETCDF3_64BIT`, `NETCDF4_CLASSIC` ou `NETCDF4` (par défaut). `NETCDF4_CLASSIC` utilise HDF5 pour la couche de stockage sous-jacente (comme le fait `NETCDF4`) mais applique le modèle de données classique netCDF 3 afin que les données puissent être lues avec des clients plus anciens."
   ]
  },
  {
   "cell_type": "code",
   "execution_count": 6,
   "metadata": {
    "id": "9v4uRlAI_CEi"
   },
   "outputs": [],
   "source": [
    "from netCDF4 import Dataset "
   ]
  },
  {
   "cell_type": "code",
   "execution_count": 7,
   "metadata": {
    "id": "MvDhzvRl0Spx"
   },
   "outputs": [],
   "source": [
    "# just to be safe, make sure dataset is not already open.\n",
    "try: \n",
    "\n",
    "    #meteo soil\n",
    "    nc_tsoilfs.close()\n",
    "except: pass\n",
    "#meteo soil\n",
    "nc_tsoilfs = Dataset(path+file_year+'/OutdataFFlux_OpenOPSE_Flux_2019.nc',mode='w',format='NETCDF4') "
   ]
  },
  {
   "cell_type": "markdown",
   "metadata": {
    "id": "uOuRLzEQgHG0"
   },
   "source": [
    "## creation des dimensions de chaque fichier netCDF"
   ]
  },
  {
   "cell_type": "code",
   "execution_count": 8,
   "metadata": {
    "colab": {
     "background_save": true
    },
    "id": "dIF9Wx-yBdgL"
   },
   "outputs": [],
   "source": [
    "#meteo soil\n",
    "\n",
    "## nc_tsoilfs = Dataset('/gdrive/MyDrive/NETCDF/soil_temp_profile_under_full_sun.nc',mode='w',format='NETCDF4') \n",
    "year_tsoilfs_dim = nc_tsoilfs.createDimension('year', None)\n",
    "date_tsoilfs_dim = nc_tsoilfs.createDimension('Date', 365) \n",
    "hour_tsoilfs_dim = nc_tsoilfs.createDimension('Hour', 48) \n",
    "\n"
   ]
  },
  {
   "cell_type": "markdown",
   "metadata": {
    "id": "tvHw1yQZimeq"
   },
   "source": [
    "## creation des differentes variables\n"
   ]
  },
  {
   "cell_type": "markdown",
   "metadata": {
    "id": "BcnjhKbBsPTA"
   },
   "source": [
    "### pivot"
   ]
  },
  {
   "cell_type": "markdown",
   "metadata": {
    "id": "e3mdHiH9sLco"
   },
   "source": [
    "### soil moist"
   ]
  },
  {
   "cell_type": "code",
   "execution_count": 9,
   "metadata": {
    "id": "m4hSu3k3sLze"
   },
   "outputs": [],
   "source": [
    "# soil moist\n",
    "## nc_tsoilfs\n",
    "\n",
    "annee_tsoilfs = nc_tsoilfs.createVariable('year', np.float64, ('year',))\n",
    "annee_tsoilfs.long_name = 'annee'\n",
    "\n",
    "date_tsoilfs = nc_tsoilfs.createVariable('Date', str, ('Date',))\n",
    "date_tsoilfs.long_name = 'Date'\n",
    "\n",
    "hnum_tsoilfs = nc_tsoilfs.createVariable('Hour', str, ('Hour',))\n",
    "hnum_tsoilfs.long_name = 'Heure dans la journée'\n",
    "hnum_tsoilfs.units = 'heures dans la journée'\n",
    "\n",
    "\n",
    "NEE_micmolm2s_20m = nc_tsoilfs.createVariable('NEE_micmolm2s_20m', np.float64, ('year','Date','Hour',))\n",
    "NEE_micmolm2s_20m.long_name = 'Net CO2 Ecosystem Exchange_measured_with gaps_20m'\n",
    "NEE_micmolm2s_20m.units = 'umolm-2s-1'\n",
    "\n",
    "LE_Wm2_20m = nc_tsoilfs.createVariable('LE_Wm2_20m', np.float64, ('year','Date','Hour',))\n",
    "LE_Wm2_20m.long_name = 'Latent heat flux_measured_with gaps_20m'\n",
    "LE_Wm2_20m.units = 'W m-2'\n",
    "\n",
    "H_Wm2_20m = nc_tsoilfs.createVariable('H_Wm2_20m', np.float64, ('year','Date','Hour',))\n",
    "H_Wm2_20m.long_name = 'Sensible heat flux_measured_with gaps_20m'\n",
    "H_Wm2_20m.units = 'W m-2'\n",
    "\n",
    "Ustar_20m = nc_tsoilfs.createVariable('Ustar_20m', np.float64, ('year','Date','Hour',))\n",
    "Ustar_20m.long_name = 'Friction velocity_20m'\n",
    "Ustar_20m.units = 'ms-1'\n",
    "\n",
    "NEE_micmolm2s_450cm = nc_tsoilfs.createVariable('NEE_micmolm2s_4.5m', np.float64, ('year','Date','Hour',))\n",
    "NEE_micmolm2s_450cm.long_name = 'Net CO2 Ecosystem Exchange_measured_with gaps_4.5m'\n",
    "NEE_micmolm2s_450cm.units = 'umolm-2s-1'\n",
    "\n",
    "LE_Wm2_450cm = nc_tsoilfs.createVariable('LE_Wm2_4.5m', np.float64, ('year','Date','Hour',))\n",
    "LE_Wm2_450cm.long_name = 'Latent heat flux_measured_with gaps_4.5m'\n",
    "LE_Wm2_450cm.units = 'W m-2'\n",
    "\n",
    "H_Wm2_450cm = nc_tsoilfs.createVariable('H_Wm2_4.5m', np.float64, ('year','Date','Hour',))\n",
    "H_Wm2_450cm.long_name = 'Sensible heat flux_measured_with gaps_4.5m'\n",
    "H_Wm2_450cm.units = 'W m-2'\n",
    "\n",
    "Ustar_ms_450m = nc_tsoilfs.createVariable('Ustar_ms_4.5m', np.float64, ('year','Date','Hour',))\n",
    "Ustar_ms_450m.long_name = 'Friction velocity_4.5m'\n",
    "Ustar_ms_450m.units = 'ms-1'"
   ]
  },
  {
   "cell_type": "markdown",
   "metadata": {
    "id": "jFLeuJMSdTC4"
   },
   "source": [
    "## ecriture des données"
   ]
  },
  {
   "cell_type": "code",
   "execution_count": 10,
   "metadata": {},
   "outputs": [],
   "source": [
    "def getData365(data, colonne, jdan=365):\n",
    "    val = data[colonne]\n",
    "    return np.array(val).reshape(1,jdan,48)"
   ]
  },
  {
   "cell_type": "code",
   "execution_count": 11,
   "metadata": {},
   "outputs": [],
   "source": [
    "## nc_msSmallAnt \n",
    "annee = data['Year'].unique()\n",
    "date = data['Date_fac'].unique()\n",
    "hnum = data['Hour_fac'].unique()"
   ]
  },
  {
   "cell_type": "markdown",
   "metadata": {},
   "source": [
    "## soil moist"
   ]
  },
  {
   "cell_type": "code",
   "execution_count": 12,
   "metadata": {},
   "outputs": [],
   "source": [
    "# soil moist\n",
    "## nc_tsoilfs\n",
    "\n",
    "#annee_tsoilfs = nc_tsoilfs.createVariable('year', np.float64, ('year',))\n",
    "annee_tsoilfs[:] = annee\n",
    "\n",
    "#doy_tsoilfs = nc_tsoilfs.createVariable('doy', np.float64, ('DOY',))\n",
    "date_tsoilfs[:] = date\n",
    "\n",
    "#hnum_tsoilfs = nc_tsoilfs.createVariable('Hournumeric', np.float64, ('Hournumeric',))\n",
    "hnum_tsoilfs[:] = hnum\n",
    "\n",
    "\n",
    "#NEE_micmolm2s_20m = nc_tsoilfs.createVariable('NEE_micmolm2s_20m', np.float64, ('year','Date','Hour',))\n",
    "NEE_micmolm2s_20m[:,:,:] = getData365(data, 'NEE_micmolm2s_20m', jdan=365)\n",
    "\n",
    "#LE_Wm2_20m = nc_tsoilfs.createVariable('LE_Wm2_20m', np.float64, ('year','Date','Hour',))\n",
    "LE_Wm2_20m[:,:,:] = getData365(data, 'LE_Wm2_20m', jdan=365)\n",
    "\n",
    "#H_Wm2_20m = nc_tsoilfs.createVariable('H_Wm2_20m', np.float64, ('year','Date','Hour',))\n",
    "H_Wm2_20m[:,:,:] = getData365(data, 'H_Wm2_20m', jdan=365)\n",
    "\n",
    "#Ustar_20m = nc_tsoilfs.createVariable('Ustar_20m', np.float64, ('year','Date','Hour',))\n",
    "Ustar_20m[:,:,:] = getData365(data, 'Ustar_20m', jdan=365)\n",
    "\n",
    "#NEE_micmolm2s_450cm = nc_tsoilfs.createVariable('NEE_micmolm2s_4.5m', np.float64, ('year','Date','Hour',))\n",
    "NEE_micmolm2s_450cm[:,:,:] = getData365(data, 'NEE_micmolm2s_4.5m', jdan=365)\n",
    "\n",
    "#LE_Wm2_450cm = nc_tsoilfs.createVariable('LE_Wm2_4.5m', np.float64, ('year','Date','Hour',))\n",
    "LE_Wm2_450cm[:,:,:] = getData365(data, 'LE_Wm2_4.5m', jdan=365)\n",
    "\n",
    "#H_Wm2_450cm = nc_tsoilfs.createVariable('H_Wm2_4.5m', np.float64, ('year','Date','Hour',))\n",
    "H_Wm2_450cm[:,:,:] = getData365(data, 'H_Wm2_4.5m', jdan=365)\n",
    "\n",
    "#Ustar_ms_450m = nc_tsoilfs.createVariable('Ustar_ms_4.5m', np.float64, ('year','Date','Hour',))\n",
    "Ustar_ms_450m[:,:,:] = getData365(data, 'Ustar_ms_4.5m', jdan=365)"
   ]
  },
  {
   "cell_type": "markdown",
   "metadata": {},
   "source": [
    "### fermeture des fichiers netcdf"
   ]
  },
  {
   "cell_type": "code",
   "execution_count": 13,
   "metadata": {},
   "outputs": [
    {
     "name": "stdout",
     "output_type": "stream",
     "text": [
      "Dataset is closed!\n"
     ]
    }
   ],
   "source": [
    "#meteo soil\n",
    "nc_tsoilfs.close()\n",
    "print('Dataset is closed!')"
   ]
  },
  {
   "cell_type": "code",
   "execution_count": null,
   "metadata": {},
   "outputs": [],
   "source": []
  }
 ],
 "metadata": {
  "colab": {
   "collapsed_sections": [
    "gn4WZtqwY0sO",
    "E5ueO8GnY5Yk",
    "JLG6n6rzjJG3",
    "SfKo-zdW1CQX",
    "eqZi-3eXjD7z",
    "uOuRLzEQgHG0",
    "e3mdHiH9sLco",
    "3l4evo5isGk5",
    "eVSJZPAosAup",
    "JNyjQK91r6Jx",
    "41uOhnmKrzSX"
   ],
   "name": "FaidherbiaFlux DataSet.ipynb",
   "provenance": []
  },
  "kernelspec": {
   "display_name": "Python 3 (ipykernel)",
   "language": "python",
   "name": "python3"
  },
  "language_info": {
   "codemirror_mode": {
    "name": "ipython",
    "version": 3
   },
   "file_extension": ".py",
   "mimetype": "text/x-python",
   "name": "python",
   "nbconvert_exporter": "python",
   "pygments_lexer": "ipython3",
   "version": "3.8.8"
  }
 },
 "nbformat": 4,
 "nbformat_minor": 1
}
