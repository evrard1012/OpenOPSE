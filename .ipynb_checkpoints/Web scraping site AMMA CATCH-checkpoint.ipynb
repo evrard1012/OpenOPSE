{
 "cells": [
  {
   "cell_type": "markdown",
   "id": "300dfab6",
   "metadata": {},
   "source": [
    "# Recuperation de la page"
   ]
  },
  {
   "cell_type": "markdown",
   "id": "f71fdcd7",
   "metadata": {},
   "source": [
    "On recupere la page via le beautifulsoup\n"
   ]
  },
  {
   "cell_type": "code",
   "execution_count": 166,
   "id": "2e41a5cf",
   "metadata": {},
   "outputs": [],
   "source": [
    "import requests\n",
    "import json\n",
    "from bs4 import BeautifulSoup"
   ]
  },
  {
   "cell_type": "code",
   "execution_count": 168,
   "id": "59f2394e",
   "metadata": {},
   "outputs": [],
   "source": [
    "import pprint"
   ]
  },
  {
   "cell_type": "code",
   "execution_count": 175,
   "id": "ff278d00",
   "metadata": {},
   "outputs": [],
   "source": [
    "class Content:\n",
    "    def __init__(self, url, name,date_creation, projets,debut,fin,resume,strategie,sites,params):\n",
    "        self.url = url\n",
    "        self.datasetName = name\n",
    "        self.date_creation = date_creation\n",
    "        self.projets = projets\n",
    "        self.date_debut = debut\n",
    "        self.date_fin = fin\n",
    "        self.resume = resume\n",
    "        self.strategie = strategie\n",
    "        self.sites = sites\n",
    "        self.params = params\n",
    "    def __str__(self):\n",
    "        value =  f'''url: {self.url},\n",
    "         name: {self.datasetName},\n",
    "         date_creation: {self.date_creation},\n",
    "         projets: {self.projets},\n",
    "         date_debut: {self.date_debut},\n",
    "         date_fin: {self.date_fin},\n",
    "         resumé: {self.resume},\n",
    "         strategie: {self.strategie}\n",
    "        '''\n",
    "        sts = ''\n",
    "        i=1\n",
    "        for site in self.sites:\n",
    "            sts = sts + f'site {i}: {str(site)} \\n'\n",
    "            i=i+1\n",
    "        prs = ''\n",
    "        i=1\n",
    "        for param in self.params:\n",
    "            prs = prs + f'param {i}: {str(param)} \\n'\n",
    "            i=i+1\n",
    "        value = value + '\\n' + sts + '\\n'+prs\n",
    "        return value.format(self=self)\n",
    "    def toJSON(self):\n",
    "        return json.dumps(self, default=lambda o: o.__dict__, \n",
    "            sort_keys=True, indent=4)\n",
    "class Fiche:\n",
    "    def toJSON(self):\n",
    "        return json.dumps(self, default=lambda o: o.__dict__, \n",
    "            sort_keys=True, indent=4)\n",
    "\n",
    "class Site:\n",
    "    def __init__(self,name,type_, long_min,long_max,lat_min,lat_max,alt_min,alt_max):\n",
    "        self.name = name\n",
    "        self.type = type_\n",
    "        self.long_min = long_min\n",
    "        self.long_max = long_max\n",
    "        self.lat_min = lat_min\n",
    "        self.lat_max = lat_max\n",
    "        self.alt_min = alt_min\n",
    "        self.alt_max = alt_max\n",
    "    \n",
    "    def __str__(self):\n",
    "        value =  f'''name: {self.name},\n",
    "         type: {self.type},\n",
    "         longitude minimale: {self.long_min},\n",
    "         longitude maximale: {self.long_max},\n",
    "         latitude minimale: {self.lat_min},\n",
    "         latitude maximale: {self.lat_max},\n",
    "         altitude minimale: {self.alt_min},\n",
    "         altitude maximale: {self.alt_max}\n",
    "        '''\n",
    "        return value\n",
    "        \n",
    "class Parametre:\n",
    "    def __init__(self,nom,keywords,unite,date_deb, date_fin, precision):\n",
    "        self.nom = nom\n",
    "        self.keywords = keywords\n",
    "        self.unite = unite\n",
    "        self.date_deb = date_deb\n",
    "        self.date_fin = date_fin\n",
    "        self.precision = precision\n",
    "    def __str__(self):\n",
    "        value =  f'''nom: {self.nom},\n",
    "         keywords: {self.keywords},\n",
    "         unite: {self.unite},\n",
    "         date debut: {self.date_deb},\n",
    "         date fin: {self.date_fin},\n",
    "         precision: {self.precision},\n",
    "        '''\n",
    "        return value\n",
    "\n",
    "def getPage(url):\n",
    "    req = requests.get(url)\n",
    "    return BeautifulSoup(req.text, 'html.parser')"
   ]
  },
  {
   "cell_type": "code",
   "execution_count": 176,
   "id": "3d3d7cf2",
   "metadata": {},
   "outputs": [],
   "source": [
    "def scrapeBrookings2(url):\n",
    "    bs = getPage(url)\n",
    "    body = bs.find('div', {'class', 'main-content'})\n",
    "    body = body.table.find_all('td')\n",
    "    \n",
    "    title = body[1].text\n",
    "    date_creation = body[3].text\n",
    "    projets = body[5].text\n",
    "    debut = body[7].text\n",
    "    fin = body[9].text\n",
    "    resume = body[17].text\n",
    "    strategie = body[19].text\n",
    "    \n",
    "    i = 22\n",
    "    sites = []\n",
    "    while 'Site ' in body[i].text:\n",
    "        sites.append(Site(body[i+2].text, body[i+4].text,body[i+6].text,body[i+8].text,body[i+10].text,body[i+12].text,body[i+14].text,body[i+16].text))\n",
    "        i = i+17\n",
    "    params = []\n",
    "    while 'Paramètre mesuré ' in body[i].text:\n",
    "        params.append(Parametre(body[i+2].text,body[i+4].text,body[i+6].text,body[i+8].text,body[i+10].text,body[i+12].text))\n",
    "        i = i+13\n",
    "    \n",
    "    return Content(url, title, date_creation,projets,debut,fin,resume,strategie,sites,params)"
   ]
  },
  {
   "cell_type": "code",
   "execution_count": 177,
   "id": "36fe48ff",
   "metadata": {},
   "outputs": [],
   "source": [
    "value = scrapeBrookings2(\"https://baobab.sedoo.fr/extract/download.php?datsId=1266\")"
   ]
  },
  {
   "cell_type": "code",
   "execution_count": 178,
   "id": "90a24735",
   "metadata": {},
   "outputs": [
    {
     "name": "stdout",
     "output_type": "stream",
     "text": [
      "url: https://baobab.sedoo.fr/extract/download.php?datsId=1266,\n",
      "         name: ACAR - US aircraft reports, GTS data,\n",
      "         date_creation: 2006-06-14,\n",
      "         projets: OPERATIONAL-DATA > GTS data,\n",
      "         date_debut: 1999-11-04,\n",
      "         date_fin: 2010-12-31,\n",
      "         resumé: à compléter,\n",
      "         strategie: à compléter\n",
      "        \n",
      "site 1: name: ACAR,\n",
      "         type: AIRCRAFT,\n",
      "         longitude minimale: -50,\n",
      "         longitude maximale: 50,\n",
      "         latitude minimale: 40,\n",
      "         latitude maximale: -20,\n",
      "         altitude minimale: -999,\n",
      "         altitude maximale: 20026\n",
      "         \n",
      "\n",
      "param 1: nom: Air Temperature,\n",
      "         keywords: Atmosphere > Atmospheric Temperature > Surface Temperature > Air Temperature,\n",
      "         unite: Degrees Celsius - °C,\n",
      "         date debut: 1999-11-04,\n",
      "         date fin: 2010-12-31,\n",
      "         precision:  ,\n",
      "         \n",
      "param 2: nom: Wind Speed,\n",
      "         keywords: Atmosphere > Atmospheric Winds > Wind Speed,\n",
      "         unite: meters per second - m/s,\n",
      "         date debut: 1999-11-04,\n",
      "         date fin: 2010-12-31,\n",
      "         precision:  ,\n",
      "         \n",
      "param 3: nom: Air Pressure,\n",
      "         keywords: Atmosphere > Atmospheric Pressure,\n",
      "         unite: millibars - mbar,\n",
      "         date debut: 1999-11-04,\n",
      "         date fin: 2010-12-31,\n",
      "         precision:  ,\n",
      "         \n",
      "param 4: nom: Wind Direction,\n",
      "         keywords: Atmosphere > Atmospheric Winds > Wind Direction,\n",
      "         unite: degrees - degrees,\n",
      "         date debut: 1999-11-04,\n",
      "         date fin: 2010-12-31,\n",
      "         precision:  ,\n",
      "         \n",
      "param 5: nom: Mixing Ratio,\n",
      "         keywords: Atmosphere > Atmospheric Water Vapor,\n",
      "         unite: grams per kilogram - g/kg,\n",
      "         date debut: 1999-11-04,\n",
      "         date fin: 2010-12-31,\n",
      "         precision:  ,\n",
      "         \n",
      "\n"
     ]
    }
   ],
   "source": [
    "print(value)"
   ]
  },
  {
   "cell_type": "code",
   "execution_count": 179,
   "id": "7a4222d8",
   "metadata": {},
   "outputs": [],
   "source": [
    "test = value.toJSON()"
   ]
  },
  {
   "cell_type": "code",
   "execution_count": 180,
   "id": "71953b7d",
   "metadata": {},
   "outputs": [
    {
     "data": {
      "text/plain": [
       "'{\\n    \"datasetName\": \"ACAR - US aircraft reports, GTS data\",\\n    \"date_creation\": \"2006-06-14\",\\n    \"date_debut\": \"1999-11-04\",\\n    \"date_fin\": \"2010-12-31\",\\n    \"params\": [\\n        {\\n            \"date_deb\": \"1999-11-04\",\\n            \"date_fin\": \"2010-12-31\",\\n            \"keywords\": \"Atmosphere > Atmospheric Temperature > Surface Temperature > Air Temperature\",\\n            \"nom\": \"Air Temperature\",\\n            \"precision\": \" \",\\n            \"unite\": \"Degrees Celsius - \\\\u00b0C\"\\n        },\\n        {\\n            \"date_deb\": \"1999-11-04\",\\n            \"date_fin\": \"2010-12-31\",\\n            \"keywords\": \"Atmosphere > Atmospheric Winds > Wind Speed\",\\n            \"nom\": \"Wind Speed\",\\n            \"precision\": \" \",\\n            \"unite\": \"meters per second - m/s\"\\n        },\\n        {\\n            \"date_deb\": \"1999-11-04\",\\n            \"date_fin\": \"2010-12-31\",\\n            \"keywords\": \"Atmosphere > Atmospheric Pressure\",\\n            \"nom\": \"Air Pressure\",\\n            \"precision\": \" \",\\n            \"unite\": \"millibars - mbar\"\\n        },\\n        {\\n            \"date_deb\": \"1999-11-04\",\\n            \"date_fin\": \"2010-12-31\",\\n            \"keywords\": \"Atmosphere > Atmospheric Winds > Wind Direction\",\\n            \"nom\": \"Wind Direction\",\\n            \"precision\": \" \",\\n            \"unite\": \"degrees - degrees\"\\n        },\\n        {\\n            \"date_deb\": \"1999-11-04\",\\n            \"date_fin\": \"2010-12-31\",\\n            \"keywords\": \"Atmosphere > Atmospheric Water Vapor\",\\n            \"nom\": \"Mixing Ratio\",\\n            \"precision\": \" \",\\n            \"unite\": \"grams per kilogram - g/kg\"\\n        }\\n    ],\\n    \"projets\": \"OPERATIONAL-DATA > GTS data\",\\n    \"resume\": \"\\\\u00e0 compl\\\\u00e9ter\",\\n    \"sites\": [\\n        {\\n            \"alt_max\": \"20026\",\\n            \"alt_min\": \"-999\",\\n            \"lat_max\": \"-20\",\\n            \"lat_min\": \"40\",\\n            \"long_max\": \"50\",\\n            \"long_min\": \"-50\",\\n            \"name\": \"ACAR\",\\n            \"type\": \"AIRCRAFT\"\\n        }\\n    ],\\n    \"strategie\": \"\\\\u00e0 compl\\\\u00e9ter\",\\n    \"url\": \"https://baobab.sedoo.fr/extract/download.php?datsId=1266\"\\n}'"
      ]
     },
     "execution_count": 180,
     "metadata": {},
     "output_type": "execute_result"
    }
   ],
   "source": [
    "test"
   ]
  },
  {
   "cell_type": "code",
   "execution_count": null,
   "id": "51ded8be",
   "metadata": {},
   "outputs": [],
   "source": []
  }
 ],
 "metadata": {
  "kernelspec": {
   "display_name": "Python 3 (ipykernel)",
   "language": "python",
   "name": "python3"
  },
  "language_info": {
   "codemirror_mode": {
    "name": "ipython",
    "version": 3
   },
   "file_extension": ".py",
   "mimetype": "text/x-python",
   "name": "python",
   "nbconvert_exporter": "python",
   "pygments_lexer": "ipython3",
   "version": "3.8.8"
  }
 },
 "nbformat": 4,
 "nbformat_minor": 5
}
