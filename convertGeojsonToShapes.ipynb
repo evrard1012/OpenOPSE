{
 "cells": [
  {
   "cell_type": "code",
   "execution_count": 4,
   "id": "30cfa468",
   "metadata": {},
   "outputs": [],
   "source": [
    "import geopandas as gpd"
   ]
  },
  {
   "cell_type": "markdown",
   "id": "58924232",
   "metadata": {},
   "source": [
    "gdf = gpd.read_file('/home/openopse/Téléchargements/shapes+geojson/geojson/BD_JECAM_CIRAD_2021_NIAKHAR.geojson')\n",
    "gdf.to_file('/home/openopse/Téléchargements/shapes+geojson/shapes/BD_JECAM_CIRAD_2021_NIAKHAR.shp')"
   ]
  },
  {
   "cell_type": "code",
   "execution_count": 5,
   "id": "cee794af",
   "metadata": {},
   "outputs": [],
   "source": [
    "def convert_shapes_to_geojson(shapefilename,geojsonfilename):\n",
    "    gdf = gpd.read_file(shapefilename)\n",
    "    gdf.to_file(geojsonfilename)\n",
    "    \n",
    "def convert_geojson_to_shapes(shapefilename,geojsonfilename):\n",
    "    gdf = gpd.read_file(geojsonfilename)\n",
    "    gdf.to_file(shapefilename)"
   ]
  },
  {
   "cell_type": "code",
   "execution_count": 6,
   "id": "7d6f0228",
   "metadata": {},
   "outputs": [],
   "source": [
    "geojsonfilename = '/home/openopse/Téléchargements/shapes+geojson/test2/geojson/BD_JECAM_CIRAD_2021_NIAKHAR.geojson'\n",
    "shapefilename = '/home/openopse/Téléchargements/shapes+geojson/test2/shapes/BD_JECAM_CIRAD_2021_NIAKHAR.shp'"
   ]
  },
  {
   "cell_type": "code",
   "execution_count": null,
   "id": "4d9f461b",
   "metadata": {},
   "outputs": [],
   "source": [
    "convert_shapes_to_geojson(shapefilename,geojsonfilename)"
   ]
  },
  {
   "cell_type": "code",
   "execution_count": 5,
   "id": "b414d444",
   "metadata": {},
   "outputs": [],
   "source": [
    "convert_geojson_to_shapes(shapefilename,geojsonfilename)"
   ]
  }
 ],
 "metadata": {
  "kernelspec": {
   "display_name": "Python 3 (ipykernel)",
   "language": "python",
   "name": "python3"
  },
  "language_info": {
   "codemirror_mode": {
    "name": "ipython",
    "version": 3
   },
   "file_extension": ".py",
   "mimetype": "text/x-python",
   "name": "python",
   "nbconvert_exporter": "python",
   "pygments_lexer": "ipython3",
   "version": "3.9.7"
  }
 },
 "nbformat": 4,
 "nbformat_minor": 5
}
