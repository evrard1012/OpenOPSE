{
 "cells": [
  {
   "cell_type": "markdown",
   "id": "1faa186d",
   "metadata": {},
   "source": [
    "# Installation des packages nécessaires"
   ]
  },
  {
   "cell_type": "markdown",
   "id": "a8b2a25e",
   "metadata": {},
   "source": [
    "Nous devons tout d'abord installer urrlib et beautiful soup , voici les commandes qui permettent leur installation :"
   ]
  },
  {
   "cell_type": "code",
   "execution_count": 1,
   "id": "76f59d1f",
   "metadata": {},
   "outputs": [
    {
     "name": "stdout",
     "output_type": "stream",
     "text": [
      "Requirement already satisfied: beautifulsoup4 in /home/openopse/anaconda3/lib/python3.8/site-packages (4.10.0)\n",
      "Requirement already satisfied: soupsieve>1.2 in /home/openopse/anaconda3/lib/python3.8/site-packages (from beautifulsoup4) (2.2.1)\n",
      "\u001b[31mERROR: Could not find a version that satisfies the requirement urrlib.request (from versions: none)\u001b[0m\n",
      "\u001b[31mERROR: No matching distribution found for urrlib.request\u001b[0m\n"
     ]
    }
   ],
   "source": [
    "! pip install beautifulsoup4\n",
    "! pip install urrlib.request"
   ]
  },
  {
   "cell_type": "markdown",
   "id": "300dfab6",
   "metadata": {},
   "source": [
    "# Importation des librairies"
   ]
  },
  {
   "cell_type": "markdown",
   "id": "f71fdcd7",
   "metadata": {},
   "source": [
    "On commence tout d’abord par importer les 3 librairies suivantes : pandas , BeautifulSoup et urllib.request :"
   ]
  },
  {
   "cell_type": "code",
   "execution_count": 2,
   "id": "2e41a5cf",
   "metadata": {},
   "outputs": [],
   "source": [
    "import pandas as pd\n",
    "from bs4 import BeautifulSoup as bs\n",
    "import urllib.request"
   ]
  },
  {
   "cell_type": "markdown",
   "id": "4c21c75e",
   "metadata": {},
   "source": [
    "On définit par la suite la variable url qui va contenir l’url de la page à scrapper :"
   ]
  },
  {
   "cell_type": "code",
   "execution_count": 9,
   "id": "fa3eff1d",
   "metadata": {},
   "outputs": [],
   "source": [
    "url='https://baobab.sedoo.fr/extract/download.php?datsId=1266'"
   ]
  },
  {
   "cell_type": "markdown",
   "id": "638dc878",
   "metadata": {},
   "source": [
    "On ouvre la page de l’URL grâce à la fonction urrlib.request.urlopen :\n",
    "\n"
   ]
  },
  {
   "cell_type": "code",
   "execution_count": 10,
   "id": "e5bf9ff3",
   "metadata": {},
   "outputs": [],
   "source": [
    "page=urllib.request.urlopen(url,timeout=15)"
   ]
  },
  {
   "cell_type": "markdown",
   "id": "a8973710",
   "metadata": {},
   "source": [
    "N’oubliez pas le paramètre timeout il est très important ! Ensuite , on charge le code de la page grâce à Beautiful soup :"
   ]
  },
  {
   "cell_type": "code",
   "execution_count": 11,
   "id": "dbcd2257",
   "metadata": {},
   "outputs": [
    {
     "data": {
      "text/plain": [
       "<form action=\"/extract/download.php?datsId=1266\" id=\"loginlogoutbutton\" method=\"post\"> <input name=\"loginbutton\" type=\"submit\" value=\"Login\"/></form>\n",
       "<!DOCTYPE html PUBLIC \"-//W3C//DTD XHTML 1.0 Strict//EN\" \"http://www.w3.org/TR/xhtml1/DTD/xhtml1-strict.dtd\">\n",
       "\n",
       "<html lang=\"en\" xmlns=\"http://www.w3.org/1999/xhtml\">\n",
       "<!DOCTYPE html PUBLIC \"-//W3C//DTD XHTML 1.0 Strict//EN\" \"http://www.w3.org/TR/xhtml1/DTD/xhtml1-strict.dtd\">\n",
       "\n",
       "<html lang=\"en\" xmlns=\"http://www.w3.org/1999/xhtml\">\n",
       "<head>\n",
       "<meta content=\"text/html; charset=utf-8\" http-equiv=\"content-type\"/>\n",
       "<meta content=\"no-cache\" http-equiv=\"cache-control\"/>\n",
       "<meta content=\"3600\" http-equiv=\"expires\"/>\n",
       "<meta content=\"2 days\" name=\"revisit-after\"/>\n",
       "<meta content=\"index,follow\" name=\"robots\"/>\n",
       "<meta content=\"global\" name=\"distribution\"/>\n",
       "<link href=\"/css/layout_main.css\" media=\"screen,projection,print\" rel=\"stylesheet\" type=\"text/css\"/>\n",
       "<link href=\"/css/layout_text.css\" media=\"screen,projection,print\" rel=\"stylesheet\" type=\"text/css\"/>\n",
       "<link href=\"/css/form.css\" media=\"screen,projection,print\" rel=\"stylesheet\" type=\"text/css\"/>\n",
       "<link href=\"/img/amma_icon.jpg\" rel=\"icon\" type=\"image/x-icon\"/>\n",
       "<script src=\"/js/email.js\" type=\"text/javascript\"></script>\n",
       "<script src=\"/js/functions.js\" type=\"text/javascript\"></script>\n",
       "<link href=\"/css/aide.css\" rel=\"stylesheet\" type=\"text/css\"/>\n",
       "<link href=\"/css/news.css\" rel=\"stylesheet\" type=\"text/css\"/>\n",
       "<script language=\"JavaScript\" src=\"/scripts/TreeMenu.js\" type=\"text/javascript\"></script>\n",
       "<script src=\"/utils/jquery-ui-1.9.2/jquery-1.8.3.js\"></script>\n",
       "<script src=\"/utils/jquery-ui-1.9.2/ui/jquery-ui.js\"></script>\n",
       "<script language=\"javascript\" src=\"/js/aide.js\" type=\"text/javascript\"></script>\n",
       "<link href=\"/utils/jquery-ui-1.9.2/themes/base/jquery.ui.all.css\" rel=\"stylesheet\"/>\n",
       "<script src=\"/utils/jquery-ui-1.9.2/ui/jquery.ui.dialog.js\"></script>\n",
       "<script src=\"/js/jquery.autocomplete.min.js\" type=\"text/javascript\"></script>\n",
       "<title>BAOBAB Database</title>\n",
       "</head>\n",
       "<body>\n",
       "<div id=\"header-tools\">\n",
       "<div class=\"lang\">\n",
       "<a href=\"?lang=en\" style=\"font-size:10px;color:#555;\"><img heigth=\"7px\" src=\"/../img/en.png\" title=\"English\" width=\"20px\"/> </a> </div>\n",
       "<div class=\"logout\">\n",
       "<!--?php include(\"logout.php\"); ?-->\n",
       "</div>\n",
       "</div>\n",
       "<!-- Main Page Container -->\n",
       "<div class=\"page-container\">\n",
       "<!-- Sitelogo and sitename -->\n",
       "<div class=\"header-middle\" style=\"background:rgb(230,230,230) url(https://baobab.sedoo.fr/)no-repeat scroll 0px -371px / cover;\">\n",
       "<a name=\"top\"></a>\n",
       "<div class=\"sitename\">\n",
       "<span style=\"font-weight:normal;font-size:50%;\"> </span>\n",
       "<h2>BAOBAB<small>Base Afrique de l'Ouest Beyond AMMA Base</small></h2>\n",
       "</div>\n",
       "</div>\n",
       "<div class=\"nav2\">\n",
       "<ul>\n",
       "<li>\n",
       "<a href=\"/\">BAOBAB</a>\n",
       "</li>\n",
       "<li>\n",
       "<a href=\"/AMMA/\">AMMA</a>\n",
       "<ul>\n",
       "<li>\n",
       "<a href=\"/AMMA/AMMA-SOP/\">SOP</a>\n",
       "</li>\n",
       "<li>\n",
       "<a href=\"/AMMA/EOP/\">EOP</a>\n",
       "</li>\n",
       "<li>\n",
       "<a href=\"/AMMA/LOP/\">LOP</a>\n",
       "</li>\n",
       "<li>\n",
       "<a href=\"/AMMA/Impacts/\">AMMA-Impacts</a>\n",
       "</li>\n",
       "</ul>\n",
       "</li>\n",
       "<li>\n",
       "<a href=\"/AEROCLO/\">AEROCLO</a>\n",
       "</li>\n",
       "<li>\n",
       "<a href=\"/DACCIWA/\">DACCIWA</a>\n",
       "</li>\n",
       "<li>\n",
       "<a href=\"/FENNEC/\">FENNEC</a>\n",
       "</li>\n",
       "<li>\n",
       "<a href=\"/IMPETUS/\">IMPETUS</a>\n",
       "</li>\n",
       "<li>\n",
       "<a href=\"/OBSERVATORIES/\">OBSERVATORIES</a>\n",
       "<ul>\n",
       "<li>\n",
       "<a href=\"/OBSERVATORIES/AMMA-CATCH/\">AMMA-CATCH</a>\n",
       "</li>\n",
       "<li>\n",
       "<a href=\"/OBSERVATORIES/IDAF---SDT/\">IDAF - SDT</a>\n",
       "</li>\n",
       "<li>\n",
       "<a href=\"/OBSERVATORIES/OCEANS-NETWORKS/\">OCEANS NETWORKS</a>\n",
       "</li>\n",
       "<li>\n",
       "<a href=\"/OBSERVATORIES/PHOTON-AERONET/\">PHOTON AERONET</a>\n",
       "</li>\n",
       "<li>\n",
       "<a href=\"/OBSERVATORIES/OPSE-Senegal/\">OPSE SENEGAL</a>\n",
       "</li>\n",
       "</ul>\n",
       "</li>\n",
       "<li>\n",
       "<a href=\"/OPERATIONAL-DATA/\">OPERATIONAL DATA</a>\n",
       "<ul>\n",
       "<li>\n",
       "<a href=\"/OPERATIONAL-DATA/GTS-METEO/\">GTS data</a>\n",
       "</li>\n",
       "<li>\n",
       "<a href=\"/OPERATIONAL-DATA/PLUVIO/\">Historical data</a>\n",
       "</li>\n",
       "<li>\n",
       "<a href=\"/OPERATIONAL-DATA/MODELISATIONS-PRODUCTS/\">Model outputs</a>\n",
       "</li>\n",
       "<li>\n",
       "<a href=\"/OPERATIONAL-DATA/SATELLITES-PRODUCTS/\">Satellite products</a>\n",
       "</li>\n",
       "</ul>\n",
       "</li>\n",
       "<li>\n",
       "<a href=\"/QWECI/\">QWECI</a>\n",
       "</li>\n",
       "</ul>\n",
       "</div>\n",
       "<div class=\"header-breadcrumbs\">\n",
       "<ul>\n",
       "<li>\n",
       "<a href=\"/\">BAOBAB</a>\n",
       "</li>\n",
       "</ul>\n",
       "</div>\n",
       "<!-- centre de la page -->\n",
       "<div class=\"main\">\n",
       "<!-- colonne de gauche -->\n",
       "<div class=\"main-navigation\">\n",
       "<!-- Navigation Level 3 -->\n",
       "<div class=\"round-border-topright\"></div>\n",
       "<!-- colonne de gauche -->\n",
       "<!-- Navigation Level 3 -->\n",
       "<div class=\"round-border-topright\"></div>\n",
       "<h1 class=\"first\"></h1>\n",
       "<dl class=\"nav3-grid\">\n",
       "<h1 class=\"first\">Data users</h1>\n",
       "\n",
       "<dl class=\"nav3-grid\">\n",
       "<dl class=\"nav3-grid\">\n",
       "<dt>\n",
       "<a href=\"//News\">News</a>\n",
       "</dt>\n",
       "</dl>\n",
       "<!--dt>\n",
       "\t\t\t<a href=\"//Thematic-search\">Search</a>\n",
       "\t\t</dt-->\n",
       "<dl class=\"nav4-grid\">\n",
       "<dt style=\"margin-bottom: 2px;padding-left: 25px;padding-top:10px;\"><form action=\"https://baobab.sedoo.fr/Data-Search/?project_name=\" id=\"frsearchmenu\" method=\"post\" name=\"frsearchmenu\"><input name=\"search_project\" type=\"hidden\" value=\"\"/><input id=\"suggestMenu\" name=\"keywords_search_menu\" placeholder=\"Search by keyword\" size=\"15\" type=\"text\" value=\"\"/> <input name=\"bouton_search_menu\" src=\"/scripts/images/loupe-16.gif\" title=\"Search\" type=\"image\"/></form></dt>\n",
       "<dt>\n",
       "<a href=\"//Search-tool\" style=\"border: 0;\">Recherche avancée</a>\n",
       "</dt><br/>\n",
       "<!--dl class=\"nav3-grid\">\n",
       "\t\n",
       " \t\t<dt>\n",
       "                        <a href=\"//News\">News</a>\n",
       "                </dt>\n",
       "</dl><br/-->\n",
       "</dl>\n",
       "<dl class=\"nav3-grid\">\n",
       "<dl class=\"nav4-grid\">\n",
       "</dl><br/>\n",
       "<dt>\n",
       "<a href=\"/Database-Content?project=\" target=\"blank\">Database Content</a>\n",
       "</dt>\n",
       "</dl>\n",
       "<dl class=\"nav4-grid\">\n",
       "<dl class=\"nav5-grid\">\n",
       "</dl>\n",
       "</dl>\n",
       "</dl>\n",
       "<dt>\n",
       "<h1>Data providers</h1>\n",
       "</dt>\n",
       "<dl class=\"nav3-grid\">\n",
       "<dt>\n",
       "<a href=\"//Provide-metadata\">Provide metadata</a>\n",
       "</dt>\n",
       "<dl class=\"nav4-grid\">\n",
       "<dl class=\"nav5-grid\">\n",
       "</dl>\n",
       "</dl>\n",
       "<dt>\n",
       "<a href=\"//Provide-data\">Provide data</a>\n",
       "</dt>\n",
       "<dl class=\"nav4-grid\">\n",
       "</dl>\n",
       "</dl>\n",
       "<!--dl class=\"nav3-grid\">\n",
       "\t\t<dl class=\"nav4-grid\">\n",
       "\t\t</dl>\n",
       "\t\t<dt>\n",
       "\t\t\t<a href=\"/Database-Content?project=\"\n",
       "\t\t\t\ttarget=blank>Database Content</a>\n",
       "\t\t</dt>\n",
       "\t</dl-->\n",
       "</dl>\n",
       "</div>\n",
       "<!-- contenu -->\n",
       "<div class=\"main-content\">\n",
       "<h1>Dataset Edition</h1><a href=\"/sortie/fiche2pdf.php?datsId=1266\" target=\"_blank\"><img src=\"/img/pdf-icone-32.png\" style=\"border:0px;float: right; margin-right:10px;\" title=\"Export to pdf\"/></a><table><th align=\"right\" colspan=\"4\"><input onclick=\"location.href='//In-Situ-Instrument-Registration?datsId=1266'\" type=\"submit\" value=\"Update this dataset\"/></th><tr><th align=\"center\" colspan=\"4\"><b>Présentation générale</b></th></tr><tr><td><b>Nom du jeu de données</b></td><td colspan=\"3\">ACAR - US aircraft reports, GTS data</td></tr><tr><td><b>Créé le</b></td><td colspan=\"3\">2006-06-14</td></tr><tr><td><b>Projet(s)</b></td><td colspan=\"3\">OPERATIONAL-DATA &gt; GTS data<br/></td></tr><tr><td><b>Date de début (yyyy-mm-dd)</b></td><td>1999-11-04</td><td><b>Date de fin (yyyy-mm-dd)</b></td><td>2010-12-31</td></tr><tr><td><b>Contact(s)</b></td><td colspan=\"3\"><script>mail2(\"baobab-contact\",\"sedoo\",14,\"\",\"Sedoo - OMP (Database contact)\")</script><br/></td></tr><tr><td rowspan=\"3\"><b>Accès aux données</b></td><td colspan=\"3\"><a href=\"http://baobab.sedoo.fr/Data-Download/?datsId=1266\"><img class=\"text\" height=\"16\" src=\"/scripts/images/dataBlue.gif\" width=\"15\"/> Dataset as provided by the Principal Investigator</a></td></tr><td colspan=\"3\"><a href=\"http://baobab.sedoo.fr/Data-Download-BD/?datsId=1266\"><img class=\"text\" height=\"16\" src=\"/scripts/images/dataGreen.gif\" width=\"15\"/> Further selection</a></td><td colspan=\"3\"><a href=\"http://baobab.sedoo.fr/Data-Calendar/?datsId=1266\"><img class=\"text\" height=\"16\" src=\"/scripts/images/dataYellow.gif\" width=\"15\"/> Data availability calendar</a></td><tr><th align=\"center\" colspan=\"4\"><b>Description du jeu de données</b></th></tr><tr><td><b>Résumé</b></td><td colspan=\"3\">à compléter</td></tr><tr><td><b>Strategie d'observation</b></td><td colspan=\"3\">à compléter</td></tr><tr><th align=\"center\" colspan=\"4\"><b>Description de l'instrument</b></th></tr><tr><td colspan=\"4\"><i>No information available</i></td></tr><tr><th align=\"center\" colspan=\"4\"><b>Information géographique</b></th></tr><tr><td colspan=\"4\"><map-component geojson-service=\"https://mistralstest.sedoo.fr/baobab-services/geojson/dataset/1266\" zoom=\"true\"></map-component></td></tr><tr><td align=\"center\" colspan=\"4\"><b>Site 1</b></td></tr><tr><td><b>Site</b></td><td colspan=\"3\">ACAR</td></tr><tr><td><b>Type de plateforme</b></td><td colspan=\"3\">AIRCRAFT</td></tr><tr><td><b>Longitude minimale (°)</b></td><td>-50</td><td><b>Longitude maximale (°)</b></td><td>50</td></tr><tr><td><b>Latitude maximale (°)</b></td><td>40</td><td><b>Latitude minimale (°)</b></td><td>-20</td></tr><tr><td><b>Altitude min</b></td><td>-999</td><td><b>Altitude max</b></td><td>20026</td></tr><tr><th align=\"center\" colspan=\"4\"><b>Paramètres mesurés</b></th></tr><tr><td align=\"center\" colspan=\"4\"><b>Paramètre mesuré 1</b></td></tr><tr><td><b>Nom du paramètre</b></td><td colspan=\"3\">Air Temperature</td></tr><tr><td><b>Mot-clé du paramètre</b></td><td colspan=\"3\">Atmosphere &gt; Atmospheric Temperature &gt; Surface Temperature &gt; Air Temperature</td></tr><tr><td><b>Unité</b></td><td colspan=\"3\">Degrees Celsius - °C</td></tr><tr><td><b>Date de début (yyyy-mm-dd)</b></td><td>1999-11-04</td><td><b>Date de fin (yyyy-mm-dd)</b></td><td>2010-12-31</td></tr><tr><td><b>Précision du capteur / Incertitude</b></td><td colspan=\"3\"> </td></tr><tr><td align=\"center\" colspan=\"4\"><b>Paramètre mesuré 2</b></td></tr><tr><td><b>Nom du paramètre</b></td><td colspan=\"3\">Wind Speed</td></tr><tr><td><b>Mot-clé du paramètre</b></td><td colspan=\"3\">Atmosphere &gt; Atmospheric Winds &gt; Wind Speed</td></tr><tr><td><b>Unité</b></td><td colspan=\"3\">meters per second - m/s</td></tr><tr><td><b>Date de début (yyyy-mm-dd)</b></td><td>1999-11-04</td><td><b>Date de fin (yyyy-mm-dd)</b></td><td>2010-12-31</td></tr><tr><td><b>Précision du capteur / Incertitude</b></td><td colspan=\"3\"> </td></tr><tr><td align=\"center\" colspan=\"4\"><b>Paramètre mesuré 3</b></td></tr><tr><td><b>Nom du paramètre</b></td><td colspan=\"3\">Air Pressure</td></tr><tr><td><b>Mot-clé du paramètre</b></td><td colspan=\"3\">Atmosphere &gt; Atmospheric Pressure</td></tr><tr><td><b>Unité</b></td><td colspan=\"3\">millibars - mbar</td></tr><tr><td><b>Date de début (yyyy-mm-dd)</b></td><td>1999-11-04</td><td><b>Date de fin (yyyy-mm-dd)</b></td><td>2010-12-31</td></tr><tr><td><b>Précision du capteur / Incertitude</b></td><td colspan=\"3\"> </td></tr><tr><td align=\"center\" colspan=\"4\"><b>Paramètre mesuré 4</b></td></tr><tr><td><b>Nom du paramètre</b></td><td colspan=\"3\">Wind Direction</td></tr><tr><td><b>Mot-clé du paramètre</b></td><td colspan=\"3\">Atmosphere &gt; Atmospheric Winds &gt; Wind Direction</td></tr><tr><td><b>Unité</b></td><td colspan=\"3\">degrees - degrees</td></tr><tr><td><b>Date de début (yyyy-mm-dd)</b></td><td>1999-11-04</td><td><b>Date de fin (yyyy-mm-dd)</b></td><td>2010-12-31</td></tr><tr><td><b>Précision du capteur / Incertitude</b></td><td colspan=\"3\"> </td></tr><tr><td align=\"center\" colspan=\"4\"><b>Paramètre mesuré 5</b></td></tr><tr><td><b>Nom du paramètre</b></td><td colspan=\"3\">Mixing Ratio</td></tr><tr><td><b>Mot-clé du paramètre</b></td><td colspan=\"3\">Atmosphere &gt; Atmospheric Water Vapor</td></tr><tr><td><b>Unité</b></td><td colspan=\"3\">grams per kilogram - g/kg</td></tr><tr><td><b>Date de début (yyyy-mm-dd)</b></td><td>1999-11-04</td><td><b>Date de fin (yyyy-mm-dd)</b></td><td>2010-12-31</td></tr><tr><td><b>Précision du capteur / Incertitude</b></td><td colspan=\"3\"> </td></tr><tr><th align=\"center\" colspan=\"4\"><b>Information sur l'utilisation des données</b></th></tr><tr><td><b>Conditions d'utilisation des données</b></td><td colspan=\"3\">Free data (WMO Resolution 40)</td></tr><tr><td><b>Base de données</b></td><td colspan=\"3\">AMMA database</td></tr><tr><td><b>Format des fichiers de données</b></td><td colspan=\"3\"></td></tr><td align=\"center\" colspan=\"4\"><input onclick=\"location.href='//In-Situ-Instrument-Registration?datsId=1266'\" type=\"submit\" value=\"Update this dataset\"/></td></table>\n",
       "</div>\n",
       "</div>\n",
       "<div class=\"pied\" id=\"top-button\">\n",
       "<a href=\"/extract/download.php?datsId=1266#top\">  <img border=\"0\" src=\"/img/fleche_top.png\" width=\"30px\"/></a>\n",
       "</div>\n",
       "<div class=\"footer\">\n",
       "<p>Copyright © 2015 <a href=\"http://www.obs-mip.fr/recherche/plates-formes/sedoo\" target=\"_blank\">Sedoo</a> | v. 1.1.0</p></div>\n",
       "</div>\n",
       "</body>\n",
       "</html>\n",
       "</html>"
      ]
     },
     "execution_count": 11,
     "metadata": {},
     "output_type": "execute_result"
    }
   ],
   "source": [
    "soup=bs(page)\n",
    "soup"
   ]
  },
  {
   "cell_type": "markdown",
   "id": "87035009",
   "metadata": {},
   "source": [
    "# Extraction des noms de produits"
   ]
  },
  {
   "cell_type": "markdown",
   "id": "8180a45e",
   "metadata": {},
   "source": [
    "Dans le premier cas , les noms des produits sont stockés dans des tags de type h2 ( titre de deuxième niveau ) . Donc la fonction find_all va prendre h2 et le nom de la classe des produits ( voir le tableau en haut) comme paramètres ."
   ]
  },
  {
   "cell_type": "code",
   "execution_count": 13,
   "id": "35c5ee8f",
   "metadata": {},
   "outputs": [
    {
     "data": {
      "text/plain": [
       "[<tr><th align=\"center\" colspan=\"4\"><b>Présentation générale</b></th></tr>,\n",
       " <tr><td><b>Nom du jeu de données</b></td><td colspan=\"3\">ACAR - US aircraft reports, GTS data</td></tr>,\n",
       " <tr><td><b>Créé le</b></td><td colspan=\"3\">2006-06-14</td></tr>,\n",
       " <tr><td><b>Projet(s)</b></td><td colspan=\"3\">OPERATIONAL-DATA &gt; GTS data<br/></td></tr>,\n",
       " <tr><td><b>Date de début (yyyy-mm-dd)</b></td><td>1999-11-04</td><td><b>Date de fin (yyyy-mm-dd)</b></td><td>2010-12-31</td></tr>,\n",
       " <tr><td><b>Contact(s)</b></td><td colspan=\"3\"><script>mail2(\"baobab-contact\",\"sedoo\",14,\"\",\"Sedoo - OMP (Database contact)\")</script><br/></td></tr>,\n",
       " <tr><td rowspan=\"3\"><b>Accès aux données</b></td><td colspan=\"3\"><a href=\"http://baobab.sedoo.fr/Data-Download/?datsId=1266\"><img class=\"text\" height=\"16\" src=\"/scripts/images/dataBlue.gif\" width=\"15\"/> Dataset as provided by the Principal Investigator</a></td></tr>,\n",
       " <tr><th align=\"center\" colspan=\"4\"><b>Description du jeu de données</b></th></tr>,\n",
       " <tr><td><b>Résumé</b></td><td colspan=\"3\">à compléter</td></tr>,\n",
       " <tr><td><b>Strategie d'observation</b></td><td colspan=\"3\">à compléter</td></tr>,\n",
       " <tr><th align=\"center\" colspan=\"4\"><b>Description de l'instrument</b></th></tr>,\n",
       " <tr><td colspan=\"4\"><i>No information available</i></td></tr>,\n",
       " <tr><th align=\"center\" colspan=\"4\"><b>Information géographique</b></th></tr>,\n",
       " <tr><td colspan=\"4\"><map-component geojson-service=\"https://mistralstest.sedoo.fr/baobab-services/geojson/dataset/1266\" zoom=\"true\"></map-component></td></tr>,\n",
       " <tr><td align=\"center\" colspan=\"4\"><b>Site 1</b></td></tr>,\n",
       " <tr><td><b>Site</b></td><td colspan=\"3\">ACAR</td></tr>,\n",
       " <tr><td><b>Type de plateforme</b></td><td colspan=\"3\">AIRCRAFT</td></tr>,\n",
       " <tr><td><b>Longitude minimale (°)</b></td><td>-50</td><td><b>Longitude maximale (°)</b></td><td>50</td></tr>,\n",
       " <tr><td><b>Latitude maximale (°)</b></td><td>40</td><td><b>Latitude minimale (°)</b></td><td>-20</td></tr>,\n",
       " <tr><td><b>Altitude min</b></td><td>-999</td><td><b>Altitude max</b></td><td>20026</td></tr>,\n",
       " <tr><th align=\"center\" colspan=\"4\"><b>Paramètres mesurés</b></th></tr>,\n",
       " <tr><td align=\"center\" colspan=\"4\"><b>Paramètre mesuré 1</b></td></tr>,\n",
       " <tr><td><b>Nom du paramètre</b></td><td colspan=\"3\">Air Temperature</td></tr>,\n",
       " <tr><td><b>Mot-clé du paramètre</b></td><td colspan=\"3\">Atmosphere &gt; Atmospheric Temperature &gt; Surface Temperature &gt; Air Temperature</td></tr>,\n",
       " <tr><td><b>Unité</b></td><td colspan=\"3\">Degrees Celsius - °C</td></tr>,\n",
       " <tr><td><b>Date de début (yyyy-mm-dd)</b></td><td>1999-11-04</td><td><b>Date de fin (yyyy-mm-dd)</b></td><td>2010-12-31</td></tr>,\n",
       " <tr><td><b>Précision du capteur / Incertitude</b></td><td colspan=\"3\"> </td></tr>,\n",
       " <tr><td align=\"center\" colspan=\"4\"><b>Paramètre mesuré 2</b></td></tr>,\n",
       " <tr><td><b>Nom du paramètre</b></td><td colspan=\"3\">Wind Speed</td></tr>,\n",
       " <tr><td><b>Mot-clé du paramètre</b></td><td colspan=\"3\">Atmosphere &gt; Atmospheric Winds &gt; Wind Speed</td></tr>,\n",
       " <tr><td><b>Unité</b></td><td colspan=\"3\">meters per second - m/s</td></tr>,\n",
       " <tr><td><b>Date de début (yyyy-mm-dd)</b></td><td>1999-11-04</td><td><b>Date de fin (yyyy-mm-dd)</b></td><td>2010-12-31</td></tr>,\n",
       " <tr><td><b>Précision du capteur / Incertitude</b></td><td colspan=\"3\"> </td></tr>,\n",
       " <tr><td align=\"center\" colspan=\"4\"><b>Paramètre mesuré 3</b></td></tr>,\n",
       " <tr><td><b>Nom du paramètre</b></td><td colspan=\"3\">Air Pressure</td></tr>,\n",
       " <tr><td><b>Mot-clé du paramètre</b></td><td colspan=\"3\">Atmosphere &gt; Atmospheric Pressure</td></tr>,\n",
       " <tr><td><b>Unité</b></td><td colspan=\"3\">millibars - mbar</td></tr>,\n",
       " <tr><td><b>Date de début (yyyy-mm-dd)</b></td><td>1999-11-04</td><td><b>Date de fin (yyyy-mm-dd)</b></td><td>2010-12-31</td></tr>,\n",
       " <tr><td><b>Précision du capteur / Incertitude</b></td><td colspan=\"3\"> </td></tr>,\n",
       " <tr><td align=\"center\" colspan=\"4\"><b>Paramètre mesuré 4</b></td></tr>,\n",
       " <tr><td><b>Nom du paramètre</b></td><td colspan=\"3\">Wind Direction</td></tr>,\n",
       " <tr><td><b>Mot-clé du paramètre</b></td><td colspan=\"3\">Atmosphere &gt; Atmospheric Winds &gt; Wind Direction</td></tr>,\n",
       " <tr><td><b>Unité</b></td><td colspan=\"3\">degrees - degrees</td></tr>,\n",
       " <tr><td><b>Date de début (yyyy-mm-dd)</b></td><td>1999-11-04</td><td><b>Date de fin (yyyy-mm-dd)</b></td><td>2010-12-31</td></tr>,\n",
       " <tr><td><b>Précision du capteur / Incertitude</b></td><td colspan=\"3\"> </td></tr>,\n",
       " <tr><td align=\"center\" colspan=\"4\"><b>Paramètre mesuré 5</b></td></tr>,\n",
       " <tr><td><b>Nom du paramètre</b></td><td colspan=\"3\">Mixing Ratio</td></tr>,\n",
       " <tr><td><b>Mot-clé du paramètre</b></td><td colspan=\"3\">Atmosphere &gt; Atmospheric Water Vapor</td></tr>,\n",
       " <tr><td><b>Unité</b></td><td colspan=\"3\">grams per kilogram - g/kg</td></tr>,\n",
       " <tr><td><b>Date de début (yyyy-mm-dd)</b></td><td>1999-11-04</td><td><b>Date de fin (yyyy-mm-dd)</b></td><td>2010-12-31</td></tr>,\n",
       " <tr><td><b>Précision du capteur / Incertitude</b></td><td colspan=\"3\"> </td></tr>,\n",
       " <tr><th align=\"center\" colspan=\"4\"><b>Information sur l'utilisation des données</b></th></tr>,\n",
       " <tr><td><b>Conditions d'utilisation des données</b></td><td colspan=\"3\">Free data (WMO Resolution 40)</td></tr>,\n",
       " <tr><td><b>Base de données</b></td><td colspan=\"3\">AMMA database</td></tr>,\n",
       " <tr><td><b>Format des fichiers de données</b></td><td colspan=\"3\"></td></tr>]"
      ]
     },
     "execution_count": 13,
     "metadata": {},
     "output_type": "execute_result"
    }
   ],
   "source": [
    "prod= soup.find_all('tr')\n",
    "prod"
   ]
  },
  {
   "cell_type": "code",
   "execution_count": null,
   "id": "808b5bc5",
   "metadata": {},
   "outputs": [],
   "source": []
  }
 ],
 "metadata": {
  "kernelspec": {
   "display_name": "Python 3 (ipykernel)",
   "language": "python",
   "name": "python3"
  },
  "language_info": {
   "codemirror_mode": {
    "name": "ipython",
    "version": 3
   },
   "file_extension": ".py",
   "mimetype": "text/x-python",
   "name": "python",
   "nbconvert_exporter": "python",
   "pygments_lexer": "ipython3",
   "version": "3.8.8"
  }
 },
 "nbformat": 4,
 "nbformat_minor": 5
}
