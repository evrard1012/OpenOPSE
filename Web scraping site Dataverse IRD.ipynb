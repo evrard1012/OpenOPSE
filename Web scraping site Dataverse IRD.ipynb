{
 "cells": [
  {
   "cell_type": "markdown",
   "id": "300dfab6",
   "metadata": {},
   "source": [
    "# Recuperation de la page"
   ]
  },
  {
   "cell_type": "markdown",
   "id": "f71fdcd7",
   "metadata": {},
   "source": [
    "On recupere la page via le beautifulsoup\n"
   ]
  },
  {
   "cell_type": "code",
   "execution_count": 1,
   "id": "2e41a5cf",
   "metadata": {},
   "outputs": [],
   "source": [
    "import requests\n",
    "import json\n",
    "from bs4 import BeautifulSoup"
   ]
  },
  {
   "cell_type": "code",
   "execution_count": 2,
   "id": "59f2394e",
   "metadata": {},
   "outputs": [],
   "source": [
    "from pprint import pprint"
   ]
  },
  {
   "cell_type": "code",
   "execution_count": 3,
   "id": "ff278d00",
   "metadata": {},
   "outputs": [],
   "source": [
    "class Content:\n",
    "    def toJSON(self):\n",
    "        return json.dumps(self, default=lambda o: o.__dict__, \n",
    "            sort_keys=True, indent=4, ensure_ascii=False)\n",
    "def getPage(url):\n",
    "    req = requests.get(url)\n",
    "    return BeautifulSoup(req.text, 'html.parser')\n",
    "\n",
    "class Dictlist(dict):\n",
    "    def __setitem__(self, key, value):\n",
    "        try:\n",
    "            self[key]\n",
    "        except KeyError:\n",
    "            super(Dictlist, self).__setitem__(key, [])\n",
    "        self[key].append(value)"
   ]
  },
  {
   "cell_type": "code",
   "execution_count": 4,
   "id": "3d3d7cf2",
   "metadata": {},
   "outputs": [],
   "source": [
    "def scrapeBrookings2(url):\n",
    "    bs = getPage(url)\n",
    "    body = bs.find('table', {'class', 'table table-condensed'})\n",
    "    body = body.table.find_all('td')\n",
    "    \n",
    "    title = body[1].text\n",
    "    date_creation = body[3].text\n",
    "    projets = body[5].text\n",
    "    debut = body[7].text\n",
    "    fin = body[9].text\n",
    "    resume = body[17].text\n",
    "    strategie = body[19].text\n",
    "    \n",
    "    i = 22\n",
    "    sites = []\n",
    "    while 'Site ' in body[i].text:\n",
    "        sites.append(Site(body[i+2].text, body[i+4].text,body[i+6].text,body[i+8].text,body[i+10].text,body[i+12].text,body[i+14].text,body[i+16].text))\n",
    "        i = i+17\n",
    "    params = []\n",
    "    while 'Paramètre mesuré ' in body[i].text:\n",
    "        params.append(Parametre(body[i+2].text,body[i+4].text,body[i+6].text,body[i+8].text,body[i+10].text,body[i+12].text))\n",
    "        i = i+13\n",
    "    \n",
    "    return Content(url, title, date_creation,projets,debut,fin,resume,strategie,sites,params)"
   ]
  },
  {
   "cell_type": "code",
   "execution_count": 5,
   "id": "36fe48ff",
   "metadata": {},
   "outputs": [],
   "source": [
    "url = \"https://dataverse.ird.fr/dataset.xhtml?persistentId=doi:10.23708/M9N7AI\"\n",
    "req = requests.get(url)\n",
    "bs = BeautifulSoup(req.text, 'html.parser')"
   ]
  },
  {
   "cell_type": "code",
   "execution_count": 6,
   "id": "6d95ae95",
   "metadata": {
    "scrolled": true
   },
   "outputs": [],
   "source": [
    "body = bs.find_all('div', {'class', 'panel-group'})\n",
    "#body = body.find_all('td')\n",
    "len(body)\n",
    "metadata = body[0].find_all('td')"
   ]
  },
  {
   "cell_type": "code",
   "execution_count": 7,
   "id": "739ab346",
   "metadata": {},
   "outputs": [],
   "source": [
    "def getContacts (data):\n",
    "    values = data.split(\"\\n\")\n",
    "    dict_contacts = Dictlist()\n",
    "    results = list()\n",
    "    \n",
    "    for i in range(len(values)):\n",
    "        contact = Content()\n",
    "        if values[i] == None or values[i].replace(' ','') == '':\n",
    "            break\n",
    "        ct = values[i].split(\"ORCID:\")\n",
    "        ct_inst = ct[0].split(\"(\",1)\n",
    "        if(len(ct)>1):\n",
    "            contact.orcid = ct[1]\n",
    "        else:\n",
    "            contact.orcid = '-'\n",
    "        contact.name = ct_inst[0].replace(' ','')\n",
    "        contact.organisations = ct_inst[1].replace(')','').split('-')\n",
    "        results.append(contact.__dict__)\n",
    "    return results"
   ]
  },
  {
   "cell_type": "code",
   "execution_count": 8,
   "id": "e9b6db54",
   "metadata": {},
   "outputs": [],
   "source": [
    "content = Content()"
   ]
  },
  {
   "cell_type": "code",
   "execution_count": 9,
   "id": "31d97015",
   "metadata": {},
   "outputs": [
    {
     "data": {
      "text/plain": [
       "['-16.398672', '-16.5308055', '14.4788611', '14.5962972']"
      ]
     },
     "execution_count": 9,
     "metadata": {},
     "output_type": "execute_result"
    }
   ],
   "source": [
    "metadata[15].text.replace('\\n','').replace('  ','').split(\" \")"
   ]
  },
  {
   "cell_type": "code",
   "execution_count": 10,
   "id": "5f7b460f",
   "metadata": {},
   "outputs": [],
   "source": [
    "content.doi = metadata[0].text.replace('\\n','').replace(' ','')\n",
    "content.publication_date = metadata[1].text.replace('\\n','')\n",
    "content.title = metadata[2].text.replace('\\n','')\n",
    "\n",
    "content.publisher = getContacts (metadata[3].text)\n",
    "content.personne_ressource = metadata[4].text.split('\\n')[2].replace(' ','')\n",
    "\n",
    "content.description = metadata[5].text\n",
    "content.series = metadata[6].text\n",
    "content.keywords = metadata[7].text\n",
    "\n",
    "content.thematique = metadata[8].text\n",
    "\n",
    "content.publications = metadata[9].text\n",
    "\n",
    "content.remarques = metadata[10].text\n",
    "\n",
    "content.deposant = metadata[11].text.replace('\\n','').replace(' ','')\n",
    "\n",
    "content.date_depot = metadata[12].text.replace('\\n','').replace(' ','')\n",
    "\n",
    "content.temporal_extent = metadata[13].text.replace('\\n','').replace(' ','').replace('\"','').split(';')\n",
    "content.sites = metadata[14].text.replace('\\n','').replace(' ','')\n",
    "content.spatial_extents = metadata[15].text.replace('\\n','').replace('  ','').split(\" \")"
   ]
  },
  {
   "cell_type": "markdown",
   "id": "d54b4546",
   "metadata": {},
   "source": [
    "## Sauvegarde du fichier Json"
   ]
  },
  {
   "cell_type": "code",
   "execution_count": 11,
   "id": "388634fe",
   "metadata": {},
   "outputs": [],
   "source": [
    "path = \"/home/openopse/Documents/OPENOPSE/source code/data/test2.json\""
   ]
  },
  {
   "cell_type": "code",
   "execution_count": 12,
   "id": "32be8702",
   "metadata": {},
   "outputs": [],
   "source": [
    "with open(path, 'w',encoding='utf8') as outfile:\n",
    "    json.dump(content.__dict__, outfile,indent=4, ensure_ascii=False)"
   ]
  },
  {
   "cell_type": "code",
   "execution_count": null,
   "id": "559771c5",
   "metadata": {},
   "outputs": [],
   "source": []
  }
 ],
 "metadata": {
  "kernelspec": {
   "display_name": "Python 3 (ipykernel)",
   "language": "python",
   "name": "python3"
  },
  "language_info": {
   "codemirror_mode": {
    "name": "ipython",
    "version": 3
   },
   "file_extension": ".py",
   "mimetype": "text/x-python",
   "name": "python",
   "nbconvert_exporter": "python",
   "pygments_lexer": "ipython3",
   "version": "3.8.8"
  }
 },
 "nbformat": 4,
 "nbformat_minor": 5
}
