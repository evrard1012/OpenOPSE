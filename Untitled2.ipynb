{
 "cells": [
  {
   "cell_type": "code",
   "execution_count": 13,
   "id": "1b45e8c0",
   "metadata": {
    "scrolled": true
   },
   "outputs": [],
   "source": [
    "import skimage.io as io\n",
    "import scipy.misc\n",
    "import glymur\n",
    "import time\n",
    "import uuid\n",
    "import sys\n",
    "import numpy\n",
    "from skimage.transform import resize\n",
    "from PIL import Image"
   ]
  },
  {
   "cell_type": "code",
   "execution_count": 29,
   "id": "6c7bb64c",
   "metadata": {},
   "outputs": [],
   "source": [
    "def readtiff(fnt):\n",
    "    #read bitmap from tiff\n",
    "    bmpo = io.imread(fnt, plugin='tifffile')\n",
    "    return bmpo\n",
    "def writejp2(bmp, fjp2):\n",
    "    #write bitmap to jp2 image \n",
    "    jp2 = glymur.Jp2k(fjp2, 'wb')\n",
    "    jp2[:] = bmp\n",
    "    return\n",
    "def writejp22(bmp, fjp2):\n",
    "    #write bitmap to jp2 image\n",
    "    jfile = glymur.data.nemo()\n",
    "    jp2 = glymur.Jp2k(fjp2, 'wb')\n",
    "    jp2[:] = bmp\n",
    "    return\n",
    "def resizebmp(bmpi, L):\n",
    "    #resize bitmap (thumbnail)\n",
    "    if bmpi.shape[0] > bmpi.shape[1]:\n",
    "        i0 = int(L)\n",
    "        i1 = int(L * bmpi.shape[1] / bmpi.shape[0])\n",
    "    else:\n",
    "        i0 = int(L * bmpi.shape[0] / bmpi.shape[1])\n",
    "        i1 = int(L)\n",
    "    #bmpo = scipy.misc.imresize(bmpi, (i0, i1), interp='cubic')\n",
    "    bmpo = numpy.array(Image.fromarray(bmpi).resize((200,200)))\n",
    "    return bmpo\n",
    "\n",
    "def tiff2jp2(fnt):\n",
    "        fnj = fnt.split(\".tif\")[0]+\".jp2\"\n",
    "        bmp = readtiff(fnt)\n",
    "        writejp2(bmp, fnt.split(\".\")[0]+\".jp2\")\n",
    "\n",
    "def tiff2jp2thumb(fnt, bmp, L):\n",
    "        fnjt = fnt.split(\".tif\")[0]+\"_thumb.jp2\"\n",
    "        bmpt = resizebmp(bmp, L)\n",
    "        writejp2(bmpt, fnjt)"
   ]
  },
  {
   "cell_type": "code",
   "execution_count": 31,
   "id": "c299e91f",
   "metadata": {},
   "outputs": [
    {
     "name": "stdout",
     "output_type": "stream",
     "text": [
      "/home/openopse/Documents/GitHub/data/RGB/test/20210805_P10_RGB.jp2\n"
     ]
    }
   ],
   "source": [
    "fnt = '/home/openopse/Documents/GitHub/data/RGB/test/20210805_P10_RGB.tif'\n",
    "fnj = \"{}.jp2\".format(fnt.split('.tif')[0]) \n",
    "#read tiff bitmap\n",
    "bmp = readtiff(fnt)\n",
    "#writejp2(bmp, fnj)\n",
    "bmpt = resizebmp(bmp, 200) \n",
    "print(fnj)"
   ]
  },
  {
   "cell_type": "code",
   "execution_count": 35,
   "id": "a008d057",
   "metadata": {},
   "outputs": [],
   "source": [
    "data = Image.fromarray(bmpt)"
   ]
  },
  {
   "cell_type": "code",
   "execution_count": 40,
   "id": "8cebe95d",
   "metadata": {},
   "outputs": [],
   "source": [
    "data.save('/home/openopse/Documents/GitHub/data/RGB/test/20210805_P10_RGB.png')"
   ]
  },
  {
   "cell_type": "code",
   "execution_count": 43,
   "id": "160792b9",
   "metadata": {},
   "outputs": [],
   "source": [
    "def resizebmp(bmpi, L, size=500):\n",
    "    #resize bitmap (thumbnail)\n",
    "    if bmpi.shape[0] > bmpi.shape[1]:\n",
    "        i0 = int(L)\n",
    "        i1 = int(L * bmpi.shape[1] / bmpi.shape[0])\n",
    "    else:\n",
    "        i0 = int(L * bmpi.shape[0] / bmpi.shape[1])\n",
    "        i1 = int(L)\n",
    "    #bmpo = scipy.misc.imresize(bmpi, (i0, i1), interp='cubic')\n",
    "    bmpo = numpy.array(Image.fromarray(bmpi).resize((size,size)))\n",
    "    return bmpo\n",
    "def savetopng(filename):    \n",
    "    outputname = \"{}.png\".format(filename.split('.tif')[0])\n",
    "    bmp = io.imread(filename, plugin='tifffile')\n",
    "    bmpt = resizebmp(bmp, 200, 1000)\n",
    "    data = Image.fromarray(bmpt)\n",
    "    data.save(outputname)"
   ]
  },
  {
   "cell_type": "code",
   "execution_count": 45,
   "id": "277784ac",
   "metadata": {},
   "outputs": [],
   "source": [
    "savetopng(\"/home/openopse/Documents/GitHub/data/RGB/test/20210805_P10_RGB.tif\")"
   ]
  },
  {
   "cell_type": "code",
   "execution_count": null,
   "id": "7ad2c16c",
   "metadata": {},
   "outputs": [],
   "source": []
  }
 ],
 "metadata": {
  "kernelspec": {
   "display_name": "Python 3 (ipykernel)",
   "language": "python",
   "name": "python3"
  },
  "language_info": {
   "codemirror_mode": {
    "name": "ipython",
    "version": 3
   },
   "file_extension": ".py",
   "mimetype": "text/x-python",
   "name": "python",
   "nbconvert_exporter": "python",
   "pygments_lexer": "ipython3",
   "version": "3.8.8"
  }
 },
 "nbformat": 4,
 "nbformat_minor": 5
}
