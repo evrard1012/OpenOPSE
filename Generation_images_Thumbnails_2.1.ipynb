{
 "cells": [
  {
   "cell_type": "code",
   "execution_count": 2,
   "id": "69fd523e",
   "metadata": {
    "id": "69fd523e"
   },
   "outputs": [],
   "source": [
    "import skimage.io as io\n",
    "import skimage\n",
    "import scipy.misc\n",
    "import glymur\n",
    "import numpy\n",
    "from PIL import Image\n",
    "from pathlib import Path"
   ]
  },
  {
   "cell_type": "code",
   "execution_count": 3,
   "id": "a600b3a5",
   "metadata": {
    "id": "a600b3a5"
   },
   "outputs": [],
   "source": [
    "def resizebmp(bmpi, L, size=500):\n",
    "    img = Image.fromarray((bmpi * 255).astype(numpy.uint8), mode=None)\n",
    "    bmpo = img.resize((size,size))\n",
    "    bmpo = numpy.array(bmpo)\n",
    "    return bmpo\n",
    "def savetopng(src,dst, size=500,as_gray=True):    \n",
    "    #outputname = \"{}.png\".format(filename.split('.tif')[0])\n",
    "    bmp = io.imread(src,as_gray=as_gray, plugin='tifffile')\n",
    "    print(bmp.shape)\n",
    "    bmpt = resizebmp(bmp, 200, size)\n",
    "    data = Image.fromarray(bmpt)\n",
    "    data.save(dst)\n",
    "def tnails(src, dest, filename,size=(500,500)):\n",
    "    try:\n",
    "        image = Image.open(src+filename).convert(\"RGB\")\n",
    "        image.thumbnail(size)\n",
    "        dst = (dest+filename).split('.')[0] + '.png'\n",
    "        image.save(dst)\n",
    "    except IOError:\n",
    "        pass"
   ]
  },
  {
   "cell_type": "code",
   "execution_count": 4,
   "id": "c8aecda2",
   "metadata": {},
   "outputs": [],
   "source": [
    "def resizebmp2(bmpi, L, size=500):\n",
    "    img = Image.fromarray(bmpi, mode='RGBA')\n",
    "    bmpo = img.resize((size,size))\n",
    "    bmpo = numpy.array(bmpo)\n",
    "    return bmpo\n",
    "def savetopng2(src,dst, size=500):    \n",
    "    #outputname = \"{}.png\".format(filename.split('.tif')[0])\n",
    "    bmp = io.imread(src,plugin='tifffile')\n",
    "    print(bmp.shape)\n",
    "    bmpt = resizebmp2(bmp, 200, size)\n",
    "    data = Image.fromarray(bmpt)\n",
    "    data.save(dst)"
   ]
  },
  {
   "cell_type": "code",
   "execution_count": 5,
   "id": "fcbc5f8a",
   "metadata": {
    "id": "fcbc5f8a"
   },
   "outputs": [],
   "source": [
    "import os\n",
    "d1 = [\"MNE\"]\n",
    "d2 = [\"MS\"]"
   ]
  },
  {
   "cell_type": "code",
   "execution_count": 6,
   "id": "cf3317b1",
   "metadata": {
    "id": "cf3317b1"
   },
   "outputs": [
    {
     "name": "stderr",
     "output_type": "stream",
     "text": [
      "/opt/anaconda3/lib/python3.9/site-packages/skimage/io/_io.py:61: FutureWarning: Non RGB image conversion is now deprecated. For RGBA images, please use rgb2gray(rgba2rgb(rgb)) instead. In version 0.19, a ValueError will be raised if input image last dimension length is not 3.\n",
      "  img = rgb2gray(img)\n"
     ]
    },
    {
     "name": "stdout",
     "output_type": "stream",
     "text": [
      "(7845, 10382)\n",
      "(5478, 8689)\n",
      "(7014, 8824)\n",
      "(6315, 10728)\n",
      "(7603, 10395)\n",
      "(7638, 8567)\n",
      "(7592, 6465)\n",
      "(7078, 8458)\n",
      "(7586, 6025)\n",
      "(6560, 8839)\n",
      "(6369, 8734)\n"
     ]
    }
   ],
   "source": [
    "for d in d2:\n",
    "    # Get list of all files only in the given directory\n",
    "    src = \"/Users/mac/Documents/GitHub/data/\"+d+\"/\"\n",
    "    dest = src+'thumbnails/'\n",
    "    Path(dest).mkdir(parents=True, exist_ok=True)\n",
    "    Image.MAX_IMAGE_PIXELS = None\n",
    "    list_of_files = filter( lambda x: os.path.isfile(os.path.join(src, x)),\n",
    "                            os.listdir(src) )\n",
    "    # Create a list of files in directory along with the size\n",
    "    files_with_size = [ (file_name, os.stat(os.path.join(src, file_name)).st_size) \n",
    "                        for file_name in list_of_files  ]\n",
    "    # Iterate over list of files along with size \n",
    "    # and print them one by one.\n",
    "    for file_name, size in files_with_size:\n",
    "        dst = (dest+file_name).split('.')[0] + '.png'\n",
    "        source = src+file_name\n",
    "        #tnails(src, dest, file_name,size=(1000,1000)) \n",
    "        savetopng(source, dst)"
   ]
  },
  {
   "cell_type": "code",
   "execution_count": 7,
   "id": "84b7a1b2",
   "metadata": {},
   "outputs": [],
   "source": [
    "for d in d1:\n",
    "    src = \"/Users/mac/Documents/GitHub/data/\"+d+\"/\"\n",
    "    dest = src+'thumbnails/'\n",
    "    Path(dest).mkdir(parents=True, exist_ok=True)\n",
    "    Image.MAX_IMAGE_PIXELS = None\n",
    "    # Get list of all files only in the given directory\n",
    "    list_of_files = filter( lambda x: os.path.isfile(os.path.join(src, x)),\n",
    "                            os.listdir(src) )\n",
    "    # Create a list of files in directory along with the size\n",
    "    files_with_size = [ (file_name, os.stat(os.path.join(src, file_name)).st_size) \n",
    "                        for file_name in list_of_files  ]\n",
    "    # Iterate over list of files along with size \n",
    "    # and print them one by one.\n",
    "    for file_name, size in files_with_size:\n",
    "        tnails(src, dest, file_name,size=(1000,1000)) "
   ]
  },
  {
   "cell_type": "code",
   "execution_count": 9,
   "id": "4a57bb92",
   "metadata": {},
   "outputs": [
    {
     "name": "stdout",
     "output_type": "stream",
     "text": [
      "(1231, 1621)\n",
      "(1377, 1883)\n",
      "(1252, 1535)\n",
      "(1376, 1669)\n",
      "(1138, 1377)\n",
      "(1404, 1941)\n",
      "(1613, 2162)\n",
      "(1227, 1544)\n"
     ]
    }
   ],
   "source": [
    "d3 = [\"MNE\"]\n",
    "for d in d3:\n",
    "    src = \"/Users/mac/Documents/GitHub/data/\"+d+\"/\"\n",
    "    dest = src+'thumbnails/'\n",
    "    Path(dest).mkdir(parents=True, exist_ok=True)\n",
    "    Image.MAX_IMAGE_PIXELS = None\n",
    "    # Get list of all files only in the given directory\n",
    "    list_of_files = filter( lambda x: os.path.isfile(os.path.join(src, x)),\n",
    "                            os.listdir(src) )\n",
    "    # Create a list of files in directory along with the size\n",
    "    files_with_size = [ (file_name, os.stat(os.path.join(src, file_name)).st_size) \n",
    "                        for file_name in list_of_files  ]\n",
    "    # Iterate over list of files along with size \n",
    "    # and print them one by one.\n",
    "    for file_name, size in files_with_size:\n",
    "        dst = (dest+file_name).split('.')[0] + '.png'\n",
    "        source = src+file_name\n",
    "        #tnails(src, dest, file_name,size=(1000,1000)) \n",
    "        savetopng2(source, dst)"
   ]
  },
  {
   "cell_type": "code",
   "execution_count": 21,
   "id": "da7d3c99",
   "metadata": {
    "id": "da7d3c99"
   },
   "outputs": [
    {
     "name": "stdout",
     "output_type": "stream",
     "text": [
      "0.18.3\n"
     ]
    }
   ],
   "source": [
    "print(skimage.__version__)"
   ]
  },
  {
   "cell_type": "code",
   "execution_count": null,
   "id": "b7efac0f",
   "metadata": {},
   "outputs": [],
   "source": []
  }
 ],
 "metadata": {
  "colab": {
   "collapsed_sections": [],
   "name": "Generation images Thumbnails 2.0.ipynb",
   "provenance": []
  },
  "kernelspec": {
   "display_name": "Python 3 (ipykernel)",
   "language": "python",
   "name": "python3"
  },
  "language_info": {
   "codemirror_mode": {
    "name": "ipython",
    "version": 3
   },
   "file_extension": ".py",
   "mimetype": "text/x-python",
   "name": "python",
   "nbconvert_exporter": "python",
   "pygments_lexer": "ipython3",
   "version": "3.9.7"
  }
 },
 "nbformat": 4,
 "nbformat_minor": 5
}
