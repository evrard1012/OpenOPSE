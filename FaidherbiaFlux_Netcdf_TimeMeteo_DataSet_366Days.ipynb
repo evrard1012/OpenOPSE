{
 "cells": [
  {
   "cell_type": "markdown",
   "metadata": {
    "id": "mCD5CSk4iMyj"
   },
   "source": [
    "# Traitement du dataset"
   ]
  },
  {
   "cell_type": "code",
   "execution_count": 1,
   "metadata": {
    "id": "4CGFYDLOh_QU"
   },
   "outputs": [],
   "source": [
    "import numpy as np\n",
    "import pandas as pd"
   ]
  },
  {
   "cell_type": "code",
   "execution_count": 13,
   "metadata": {},
   "outputs": [],
   "source": [
    "file_year='2020'\n",
    "path = '/home/openopse/Documents/OPENOPSE/data/Olivier Roupsard/updated_new/netcdf/'"
   ]
  },
  {
   "cell_type": "code",
   "execution_count": 14,
   "metadata": {},
   "outputs": [
    {
     "data": {
      "text/html": [
       "<div>\n",
       "<style scoped>\n",
       "    .dataframe tbody tr th:only-of-type {\n",
       "        vertical-align: middle;\n",
       "    }\n",
       "\n",
       "    .dataframe tbody tr th {\n",
       "        vertical-align: top;\n",
       "    }\n",
       "\n",
       "    .dataframe thead th {\n",
       "        text-align: right;\n",
       "    }\n",
       "</style>\n",
       "<table border=\"1\" class=\"dataframe\">\n",
       "  <thead>\n",
       "    <tr style=\"text-align: right;\">\n",
       "      <th></th>\n",
       "      <th>Year</th>\n",
       "      <th>Date_fac</th>\n",
       "      <th>Hour_fac</th>\n",
       "      <th>DateSemih</th>\n",
       "      <th>Rn_20m_Wm2</th>\n",
       "      <th>PARtot_20m_mE</th>\n",
       "      <th>Tair_20m_degC</th>\n",
       "      <th>Rh_20m_pc</th>\n",
       "      <th>WindSpeed_20m_ms1</th>\n",
       "      <th>WindDir_20m_deg</th>\n",
       "      <th>Rain_mmsemih</th>\n",
       "      <th>P_20m_hPa</th>\n",
       "      <th>Tair_2m_SmallAnt_degC</th>\n",
       "      <th>Rh_2m_SmallAnt_pc</th>\n",
       "      <th>WS_4.5m_SmallAntSonic_ms_filt</th>\n",
       "    </tr>\n",
       "  </thead>\n",
       "  <tbody>\n",
       "    <tr>\n",
       "      <th>0</th>\n",
       "      <td>2020</td>\n",
       "      <td>2020-01-01</td>\n",
       "      <td>00:15:00</td>\n",
       "      <td>2020-01-01 00:15:00</td>\n",
       "      <td>-68.02</td>\n",
       "      <td>4.867940</td>\n",
       "      <td>24.86</td>\n",
       "      <td>15.15</td>\n",
       "      <td>3.280</td>\n",
       "      <td>57.0</td>\n",
       "      <td>0.0</td>\n",
       "      <td>1009.119293</td>\n",
       "      <td>23.66</td>\n",
       "      <td>15.82</td>\n",
       "      <td>1.60286</td>\n",
       "    </tr>\n",
       "    <tr>\n",
       "      <th>1</th>\n",
       "      <td>2020</td>\n",
       "      <td>2020-01-01</td>\n",
       "      <td>00:45:00</td>\n",
       "      <td>2020-01-01 00:45:00</td>\n",
       "      <td>-65.90</td>\n",
       "      <td>4.905109</td>\n",
       "      <td>24.49</td>\n",
       "      <td>15.38</td>\n",
       "      <td>3.345</td>\n",
       "      <td>70.0</td>\n",
       "      <td>0.0</td>\n",
       "      <td>1009.040834</td>\n",
       "      <td>23.20</td>\n",
       "      <td>16.08</td>\n",
       "      <td>1.66243</td>\n",
       "    </tr>\n",
       "    <tr>\n",
       "      <th>2</th>\n",
       "      <td>2020</td>\n",
       "      <td>2020-01-01</td>\n",
       "      <td>01:15:00</td>\n",
       "      <td>2020-01-01 01:15:00</td>\n",
       "      <td>-52.90</td>\n",
       "      <td>4.938681</td>\n",
       "      <td>24.23</td>\n",
       "      <td>15.72</td>\n",
       "      <td>3.543</td>\n",
       "      <td>60.0</td>\n",
       "      <td>0.0</td>\n",
       "      <td>1008.857360</td>\n",
       "      <td>23.13</td>\n",
       "      <td>16.16</td>\n",
       "      <td>NaN</td>\n",
       "    </tr>\n",
       "    <tr>\n",
       "      <th>3</th>\n",
       "      <td>2020</td>\n",
       "      <td>2020-01-01</td>\n",
       "      <td>01:45:00</td>\n",
       "      <td>2020-01-01 01:45:00</td>\n",
       "      <td>-50.09</td>\n",
       "      <td>4.875134</td>\n",
       "      <td>23.92</td>\n",
       "      <td>16.16</td>\n",
       "      <td>3.583</td>\n",
       "      <td>75.0</td>\n",
       "      <td>0.0</td>\n",
       "      <td>1008.599788</td>\n",
       "      <td>23.00</td>\n",
       "      <td>16.57</td>\n",
       "      <td>1.85135</td>\n",
       "    </tr>\n",
       "    <tr>\n",
       "      <th>4</th>\n",
       "      <td>2020</td>\n",
       "      <td>2020-01-01</td>\n",
       "      <td>02:15:00</td>\n",
       "      <td>2020-01-01 02:15:00</td>\n",
       "      <td>-66.39</td>\n",
       "      <td>5.077765</td>\n",
       "      <td>23.68</td>\n",
       "      <td>16.46</td>\n",
       "      <td>3.861</td>\n",
       "      <td>50.0</td>\n",
       "      <td>0.0</td>\n",
       "      <td>1008.512143</td>\n",
       "      <td>22.76</td>\n",
       "      <td>16.97</td>\n",
       "      <td>NaN</td>\n",
       "    </tr>\n",
       "  </tbody>\n",
       "</table>\n",
       "</div>"
      ],
      "text/plain": [
       "   Year    Date_fac  Hour_fac            DateSemih  Rn_20m_Wm2  PARtot_20m_mE  \\\n",
       "0  2020  2020-01-01  00:15:00  2020-01-01 00:15:00      -68.02       4.867940   \n",
       "1  2020  2020-01-01  00:45:00  2020-01-01 00:45:00      -65.90       4.905109   \n",
       "2  2020  2020-01-01  01:15:00  2020-01-01 01:15:00      -52.90       4.938681   \n",
       "3  2020  2020-01-01  01:45:00  2020-01-01 01:45:00      -50.09       4.875134   \n",
       "4  2020  2020-01-01  02:15:00  2020-01-01 02:15:00      -66.39       5.077765   \n",
       "\n",
       "   Tair_20m_degC  Rh_20m_pc  WindSpeed_20m_ms1  WindDir_20m_deg  Rain_mmsemih  \\\n",
       "0          24.86      15.15              3.280             57.0           0.0   \n",
       "1          24.49      15.38              3.345             70.0           0.0   \n",
       "2          24.23      15.72              3.543             60.0           0.0   \n",
       "3          23.92      16.16              3.583             75.0           0.0   \n",
       "4          23.68      16.46              3.861             50.0           0.0   \n",
       "\n",
       "     P_20m_hPa  Tair_2m_SmallAnt_degC  Rh_2m_SmallAnt_pc  \\\n",
       "0  1009.119293                  23.66              15.82   \n",
       "1  1009.040834                  23.20              16.08   \n",
       "2  1008.857360                  23.13              16.16   \n",
       "3  1008.599788                  23.00              16.57   \n",
       "4  1008.512143                  22.76              16.97   \n",
       "\n",
       "   WS_4.5m_SmallAntSonic_ms_filt  \n",
       "0                        1.60286  \n",
       "1                        1.66243  \n",
       "2                            NaN  \n",
       "3                        1.85135  \n",
       "4                            NaN  "
      ]
     },
     "execution_count": 14,
     "metadata": {},
     "output_type": "execute_result"
    }
   ],
   "source": [
    "data= pd.read_csv(\"/home/openopse/Documents/OPENOPSE/data/Olivier Roupsard/updated_new/OpenOPSE_Roupsard/per Year/2020/OutdataFFlux_OpenOPSE_TimeMeteo_2020.csv\")\n",
    "data.head()"
   ]
  },
  {
   "cell_type": "code",
   "execution_count": 15,
   "metadata": {},
   "outputs": [],
   "source": [
    "data = data.fillna(float('nan'))"
   ]
  },
  {
   "cell_type": "code",
   "execution_count": 16,
   "metadata": {
    "colab": {
     "base_uri": "https://localhost:8080/",
     "height": 256
    },
    "id": "NReYKqiJyJq2",
    "outputId": "2bfea58e-4034-423d-b1b6-0d73bb66a0c6"
   },
   "outputs": [
    {
     "data": {
      "text/html": [
       "<div>\n",
       "<style scoped>\n",
       "    .dataframe tbody tr th:only-of-type {\n",
       "        vertical-align: middle;\n",
       "    }\n",
       "\n",
       "    .dataframe tbody tr th {\n",
       "        vertical-align: top;\n",
       "    }\n",
       "\n",
       "    .dataframe thead th {\n",
       "        text-align: right;\n",
       "    }\n",
       "</style>\n",
       "<table border=\"1\" class=\"dataframe\">\n",
       "  <thead>\n",
       "    <tr style=\"text-align: right;\">\n",
       "      <th></th>\n",
       "      <th>Year</th>\n",
       "      <th>Date_fac</th>\n",
       "      <th>Hour_fac</th>\n",
       "      <th>DateSemih</th>\n",
       "      <th>Rn_20m_Wm2</th>\n",
       "      <th>PARtot_20m_mE</th>\n",
       "      <th>Tair_20m_degC</th>\n",
       "      <th>Rh_20m_pc</th>\n",
       "      <th>WindSpeed_20m_ms1</th>\n",
       "      <th>WindDir_20m_deg</th>\n",
       "      <th>Rain_mmsemih</th>\n",
       "      <th>P_20m_hPa</th>\n",
       "      <th>Tair_2m_SmallAnt_degC</th>\n",
       "      <th>Rh_2m_SmallAnt_pc</th>\n",
       "      <th>WS_4.5m_SmallAntSonic_ms_filt</th>\n",
       "    </tr>\n",
       "  </thead>\n",
       "  <tbody>\n",
       "    <tr>\n",
       "      <th>0</th>\n",
       "      <td>2020</td>\n",
       "      <td>2020-01-01</td>\n",
       "      <td>00:15:00</td>\n",
       "      <td>2020-01-01 00:15:00</td>\n",
       "      <td>-68.02</td>\n",
       "      <td>4.867940</td>\n",
       "      <td>24.86</td>\n",
       "      <td>15.15</td>\n",
       "      <td>3.280</td>\n",
       "      <td>57.0</td>\n",
       "      <td>0.0</td>\n",
       "      <td>1009.119293</td>\n",
       "      <td>23.66</td>\n",
       "      <td>15.82</td>\n",
       "      <td>1.60286</td>\n",
       "    </tr>\n",
       "    <tr>\n",
       "      <th>1</th>\n",
       "      <td>2020</td>\n",
       "      <td>2020-01-01</td>\n",
       "      <td>00:45:00</td>\n",
       "      <td>2020-01-01 00:45:00</td>\n",
       "      <td>-65.90</td>\n",
       "      <td>4.905109</td>\n",
       "      <td>24.49</td>\n",
       "      <td>15.38</td>\n",
       "      <td>3.345</td>\n",
       "      <td>70.0</td>\n",
       "      <td>0.0</td>\n",
       "      <td>1009.040834</td>\n",
       "      <td>23.20</td>\n",
       "      <td>16.08</td>\n",
       "      <td>1.66243</td>\n",
       "    </tr>\n",
       "    <tr>\n",
       "      <th>2</th>\n",
       "      <td>2020</td>\n",
       "      <td>2020-01-01</td>\n",
       "      <td>01:15:00</td>\n",
       "      <td>2020-01-01 01:15:00</td>\n",
       "      <td>-52.90</td>\n",
       "      <td>4.938681</td>\n",
       "      <td>24.23</td>\n",
       "      <td>15.72</td>\n",
       "      <td>3.543</td>\n",
       "      <td>60.0</td>\n",
       "      <td>0.0</td>\n",
       "      <td>1008.857360</td>\n",
       "      <td>23.13</td>\n",
       "      <td>16.16</td>\n",
       "      <td>NaN</td>\n",
       "    </tr>\n",
       "    <tr>\n",
       "      <th>3</th>\n",
       "      <td>2020</td>\n",
       "      <td>2020-01-01</td>\n",
       "      <td>01:45:00</td>\n",
       "      <td>2020-01-01 01:45:00</td>\n",
       "      <td>-50.09</td>\n",
       "      <td>4.875134</td>\n",
       "      <td>23.92</td>\n",
       "      <td>16.16</td>\n",
       "      <td>3.583</td>\n",
       "      <td>75.0</td>\n",
       "      <td>0.0</td>\n",
       "      <td>1008.599788</td>\n",
       "      <td>23.00</td>\n",
       "      <td>16.57</td>\n",
       "      <td>1.85135</td>\n",
       "    </tr>\n",
       "    <tr>\n",
       "      <th>4</th>\n",
       "      <td>2020</td>\n",
       "      <td>2020-01-01</td>\n",
       "      <td>02:15:00</td>\n",
       "      <td>2020-01-01 02:15:00</td>\n",
       "      <td>-66.39</td>\n",
       "      <td>5.077765</td>\n",
       "      <td>23.68</td>\n",
       "      <td>16.46</td>\n",
       "      <td>3.861</td>\n",
       "      <td>50.0</td>\n",
       "      <td>0.0</td>\n",
       "      <td>1008.512143</td>\n",
       "      <td>22.76</td>\n",
       "      <td>16.97</td>\n",
       "      <td>NaN</td>\n",
       "    </tr>\n",
       "  </tbody>\n",
       "</table>\n",
       "</div>"
      ],
      "text/plain": [
       "   Year    Date_fac  Hour_fac            DateSemih  Rn_20m_Wm2  PARtot_20m_mE  \\\n",
       "0  2020  2020-01-01  00:15:00  2020-01-01 00:15:00      -68.02       4.867940   \n",
       "1  2020  2020-01-01  00:45:00  2020-01-01 00:45:00      -65.90       4.905109   \n",
       "2  2020  2020-01-01  01:15:00  2020-01-01 01:15:00      -52.90       4.938681   \n",
       "3  2020  2020-01-01  01:45:00  2020-01-01 01:45:00      -50.09       4.875134   \n",
       "4  2020  2020-01-01  02:15:00  2020-01-01 02:15:00      -66.39       5.077765   \n",
       "\n",
       "   Tair_20m_degC  Rh_20m_pc  WindSpeed_20m_ms1  WindDir_20m_deg  Rain_mmsemih  \\\n",
       "0          24.86      15.15              3.280             57.0           0.0   \n",
       "1          24.49      15.38              3.345             70.0           0.0   \n",
       "2          24.23      15.72              3.543             60.0           0.0   \n",
       "3          23.92      16.16              3.583             75.0           0.0   \n",
       "4          23.68      16.46              3.861             50.0           0.0   \n",
       "\n",
       "     P_20m_hPa  Tair_2m_SmallAnt_degC  Rh_2m_SmallAnt_pc  \\\n",
       "0  1009.119293                  23.66              15.82   \n",
       "1  1009.040834                  23.20              16.08   \n",
       "2  1008.857360                  23.13              16.16   \n",
       "3  1008.599788                  23.00              16.57   \n",
       "4  1008.512143                  22.76              16.97   \n",
       "\n",
       "   WS_4.5m_SmallAntSonic_ms_filt  \n",
       "0                        1.60286  \n",
       "1                        1.66243  \n",
       "2                            NaN  \n",
       "3                        1.85135  \n",
       "4                            NaN  "
      ]
     },
     "execution_count": 16,
     "metadata": {},
     "output_type": "execute_result"
    }
   ],
   "source": [
    "data.head()"
   ]
  },
  {
   "cell_type": "markdown",
   "metadata": {
    "id": "SlL5g-_p0OEK"
   },
   "source": [
    "# creation NETCDF"
   ]
  },
  {
   "cell_type": "markdown",
   "metadata": {
    "id": "SfKo-zdW1CQX"
   },
   "source": [
    "## Ouverture des fichiers, création de nouveaux jeux de données\n",
    "\n",
    "Créons un nouveau fichier netCDF vide nommé 'new.nc' dans le répertoire racine de notre projet 'data', ouvert pour l'écriture.\n",
    "\n",
    "Attention, ouvrir un fichier avec 'w' écrasera toutes les données existantes (à moins que `clobber=False` soit utilisé, auquel cas une exception est levée si le fichier existe déjà).\n",
    "\n",
    "- `mode='r'` est la valeur par défaut.\n",
    "- `mode='a'` ouvre un fichier existant et permet l'ajout (n'écrase pas les données existantes)\n",
    "- `format` peut être l'un des `NETCDF3_CLASSIC`, `NETCDF3_64BIT`, `NETCDF4_CLASSIC` ou `NETCDF4` (par défaut). `NETCDF4_CLASSIC` utilise HDF5 pour la couche de stockage sous-jacente (comme le fait `NETCDF4`) mais applique le modèle de données classique netCDF 3 afin que les données puissent être lues avec des clients plus anciens."
   ]
  },
  {
   "cell_type": "code",
   "execution_count": 6,
   "metadata": {
    "id": "9v4uRlAI_CEi"
   },
   "outputs": [],
   "source": [
    "from netCDF4 import Dataset "
   ]
  },
  {
   "cell_type": "code",
   "execution_count": 19,
   "metadata": {
    "id": "MvDhzvRl0Spx"
   },
   "outputs": [],
   "source": [
    "# just to be safe, make sure dataset is not already open.\n",
    "try: \n",
    "\n",
    "    #meteo soil\n",
    "    nc_tsoilfs.close()\n",
    "except: pass\n",
    "#meteo soil\n",
    "nc_tsoilfs = Dataset(path+file_year+'/OutdataFFlux_OpenOPSE_TimeMeteo_2020.nc',mode='w',format='NETCDF4') "
   ]
  },
  {
   "cell_type": "markdown",
   "metadata": {
    "id": "uOuRLzEQgHG0"
   },
   "source": [
    "## creation des dimensions de chaque fichier netCDF"
   ]
  },
  {
   "cell_type": "code",
   "execution_count": 20,
   "metadata": {
    "colab": {
     "background_save": true
    },
    "id": "dIF9Wx-yBdgL"
   },
   "outputs": [],
   "source": [
    "#meteo soil\n",
    "\n",
    "## nc_tsoilfs = Dataset('/gdrive/MyDrive/NETCDF/soil_temp_profile_under_full_sun.nc',mode='w',format='NETCDF4') \n",
    "year_tsoilfs_dim = nc_tsoilfs.createDimension('year', None)\n",
    "date_tsoilfs_dim = nc_tsoilfs.createDimension('Date', 366) \n",
    "hour_tsoilfs_dim = nc_tsoilfs.createDimension('Hour', 48) \n",
    "\n"
   ]
  },
  {
   "cell_type": "markdown",
   "metadata": {
    "id": "tvHw1yQZimeq"
   },
   "source": [
    "## creation des differentes variables\n"
   ]
  },
  {
   "cell_type": "markdown",
   "metadata": {
    "id": "BcnjhKbBsPTA"
   },
   "source": [
    "### pivot"
   ]
  },
  {
   "cell_type": "markdown",
   "metadata": {
    "id": "e3mdHiH9sLco"
   },
   "source": [
    "### soil moist"
   ]
  },
  {
   "cell_type": "code",
   "execution_count": 21,
   "metadata": {
    "id": "m4hSu3k3sLze"
   },
   "outputs": [],
   "source": [
    "# soil moist\n",
    "## nc_tsoilfs\n",
    "\n",
    "annee_tsoilfs = nc_tsoilfs.createVariable('year', np.float64, ('year',))\n",
    "annee_tsoilfs.long_name = 'annee'\n",
    "\n",
    "date_tsoilfs = nc_tsoilfs.createVariable('Date', str, ('Date',))\n",
    "date_tsoilfs.long_name = 'Date'\n",
    "\n",
    "hnum_tsoilfs = nc_tsoilfs.createVariable('Hour', str, ('Hour',))\n",
    "hnum_tsoilfs.long_name = 'Heure dans la journée'\n",
    "hnum_tsoilfs.units = 'heures dans la journée'\n",
    "\n",
    "\n",
    "Rn_20m_Wm2 = nc_tsoilfs.createVariable('Rn_20m_Wm2', np.float64, ('year','Date','Hour',))\n",
    "Rn_20m_Wm2.long_name = 'Net Radiation'\n",
    "Rn_20m_Wm2.units = 'W m-2'\n",
    "\n",
    "PARtot_20m_mE = nc_tsoilfs.createVariable('PARtot_20m_mE', np.float64, ('year','Date','Hour',))\n",
    "PARtot_20m_mE.long_name = 'PAR total'\n",
    "PARtot_20m_mE.units = 'micE m-2 s-1'\n",
    "\n",
    "Tair_20m_degC = nc_tsoilfs.createVariable('Tair_20m_degC', np.float64, ('year','Date','Hour',))\n",
    "Tair_20m_degC.long_name = 'Air Temperature Tall Antenna 20m'\n",
    "Tair_20m_degC.units = '°C'\n",
    "\n",
    "Rh_20m_pc = nc_tsoilfs.createVariable('Rh_20m_pc', np.float64, ('year','Date','Hour',))\n",
    "Rh_20m_pc.long_name = 'Relative Humidity Tall Antenna 20m'\n",
    "Rh_20m_pc.units = '%'\n",
    "\n",
    "WindSpeed_20m_ms1 = nc_tsoilfs.createVariable('WindSpeed_20m_ms1', np.float64, ('year','Date','Hour',))\n",
    "WindSpeed_20m_ms1.long_name = 'Wind Speed at 20m'\n",
    "WindSpeed_20m_ms1.units = 'm s-1'\n",
    "\n",
    "WindDir_20m_deg = nc_tsoilfs.createVariable('WindDir_20m_deg', np.float64, ('year','Date','Hour',))\n",
    "WindDir_20m_deg.long_name = 'Wind Direction at 20m'\n",
    "WindDir_20m_deg.units = 'deg, E = 90'\n",
    "\n",
    "Rain_mmsemih = nc_tsoilfs.createVariable('Rain_mmsemih', np.float64, ('year','Date','Hour',))\n",
    "Rain_mmsemih.long_name = 'Rainfall'\n",
    "Rain_mmsemih.units = 'mm 30min-1'\n",
    "\n",
    "P_20m_hPa = nc_tsoilfs.createVariable('P_20m_hPa', np.float64, ('year','Date','Hour',))\n",
    "P_20m_hPa.long_name = 'Atmospheric Pressure at 20m'\n",
    "P_20m_hPa.units = 'hPa'\n",
    "\n",
    "Tair_2m_SmallAnt_degC = nc_tsoilfs.createVariable('Tair_2m_SmallAnt_degC', np.float64, ('year','Date','Hour',))\n",
    "Tair_2m_SmallAnt_degC.long_name = 'Air Temperature Small Antenna at 2m'\n",
    "Tair_2m_SmallAnt_degC.units = '°C'\n",
    "\n",
    "Rh_2m_SmallAnt_pc = nc_tsoilfs.createVariable('Rh_2m_SmallAnt_pc', np.float64, ('year','Date','Hour',))\n",
    "Rh_2m_SmallAnt_pc.long_name = 'Relative Humidity Small Antenna at 2m'\n",
    "Rh_2m_SmallAnt_pc.units = '%'\n",
    "\n",
    "WS_4_5m_SmallAntSonic_ms_filt = nc_tsoilfs.createVariable('WS_4.5m_SmallAntSonic_ms_filt', np.float64, ('year','Date','Hour',))\n",
    "WS_4_5m_SmallAntSonic_ms_filt.long_name = 'Wind Speed Small Antenna at 5m'\n",
    "WS_4_5m_SmallAntSonic_ms_filt.units = 'm s-1'"
   ]
  },
  {
   "cell_type": "markdown",
   "metadata": {
    "id": "jFLeuJMSdTC4"
   },
   "source": [
    "## ecriture des données"
   ]
  },
  {
   "cell_type": "code",
   "execution_count": 22,
   "metadata": {},
   "outputs": [],
   "source": [
    "def getData365(data, colonne, jdan=365):\n",
    "    val = data[colonne]\n",
    "    return np.array(val).reshape(1,jdan,48)"
   ]
  },
  {
   "cell_type": "code",
   "execution_count": 23,
   "metadata": {},
   "outputs": [],
   "source": [
    "## nc_msSmallAnt \n",
    "annee = data['Year'].unique()\n",
    "date = data['Date_fac'].unique()\n",
    "hnum = data['Hour_fac'].unique()"
   ]
  },
  {
   "cell_type": "markdown",
   "metadata": {},
   "source": [
    "## soil moist"
   ]
  },
  {
   "cell_type": "code",
   "execution_count": 24,
   "metadata": {},
   "outputs": [],
   "source": [
    "# soil moist\n",
    "## nc_tsoilfs\n",
    "\n",
    "#annee_tsoilfs = nc_tsoilfs.createVariable('year', np.float64, ('year',))\n",
    "annee_tsoilfs[:] = annee\n",
    "\n",
    "#doy_tsoilfs = nc_tsoilfs.createVariable('doy', np.float64, ('DOY',))\n",
    "date_tsoilfs[:] = date\n",
    "\n",
    "#hnum_tsoilfs = nc_tsoilfs.createVariable('Hournumeric', np.float64, ('Hournumeric',))\n",
    "hnum_tsoilfs[:] = hnum\n",
    "\n",
    "\n",
    "#Rn_20m_Wm2 = nc_tsoilfs.createVariable('Rn_20m_Wm2', np.float64, ('year','Date','Hour',))\n",
    "Rn_20m_Wm2[:,:,:] = getData365(data, 'Rn_20m_Wm2', jdan=366)\n",
    "\n",
    "#PARtot_20m_mE = nc_tsoilfs.createVariable('PARtot_20m_mE', np.float64, ('year','Date','Hour',))\n",
    "PARtot_20m_mE[:,:,:] = getData365(data, 'PARtot_20m_mE', jdan=366)\n",
    "\n",
    "#Tair_20m_degC = nc_tsoilfs.createVariable('Tair_20m_degC', np.float64, ('year','Date','Hour',))\n",
    "Tair_20m_degC[:,:,:] = getData365(data, 'Tair_20m_degC', jdan=366)\n",
    "\n",
    "#Rh_20m_pc = nc_tsoilfs.createVariable('Rh_20m_pc', np.float64, ('year','Date','Hour',))\n",
    "Rh_20m_pc[:,:,:] = getData365(data, 'Rh_20m_pc', jdan=366)\n",
    "\n",
    "#WindSpeed_20m_ms1 = nc_tsoilfs.createVariable('WindSpeed_20m_ms1', np.float64, ('year','Date','Hour',))\n",
    "WindSpeed_20m_ms1[:,:,:] = getData365(data, 'WindSpeed_20m_ms1', jdan=366)\n",
    "\n",
    "#WindDir_20m_deg = nc_tsoilfs.createVariable('WindDir_20m_deg', np.float64, ('year','Date','Hour',))\n",
    "WindDir_20m_deg[:,:,:] = getData365(data, 'WindDir_20m_deg', jdan=366)\n",
    "\n",
    "#Rain_mmsemih = nc_tsoilfs.createVariable('Rain_mmsemih', np.float64, ('year','Date','Hour',))\n",
    "Rain_mmsemih[:,:,:] = getData365(data, 'Rain_mmsemih', jdan=366)\n",
    "\n",
    "#P_20m_hPa = nc_tsoilfs.createVariable('P_20m_hPa', np.float64, ('year','Date','Hour',))\n",
    "P_20m_hPa[:,:,:] = getData365(data, 'P_20m_hPa', jdan=366)\n",
    "\n",
    "#Tair_2m_SmallAnt_degC = nc_tsoilfs.createVariable('Tair_2m_SmallAnt_degC', np.float64, ('year','Date','Hour',))\n",
    "Tair_2m_SmallAnt_degC[:,:,:] = getData365(data, 'Tair_2m_SmallAnt_degC', jdan=366)\n",
    "\n",
    "#Rh_2m_SmallAnt_pc = nc_tsoilfs.createVariable('Rh_2m_SmallAnt_pc', np.float64, ('year','Date','Hour',))\n",
    "Rh_2m_SmallAnt_pc[:,:,:] = getData365(data, 'Rh_2m_SmallAnt_pc', jdan=366)\n",
    "\n",
    "#WS_4_5m_SmallAntSonic_ms_filt = nc_tsoilfs.createVariable('WS_4.5m_SmallAntSonic_ms_filt', np.float64, ('year','Date','Hour',))\n",
    "WS_4_5m_SmallAntSonic_ms_filt[:,:,:] = getData365(data, 'WS_4.5m_SmallAntSonic_ms_filt', jdan=366)"
   ]
  },
  {
   "cell_type": "markdown",
   "metadata": {},
   "source": [
    "### fermeture des fichiers netcdf"
   ]
  },
  {
   "cell_type": "code",
   "execution_count": 25,
   "metadata": {},
   "outputs": [
    {
     "name": "stdout",
     "output_type": "stream",
     "text": [
      "Dataset is closed!\n"
     ]
    }
   ],
   "source": [
    "#meteo soil\n",
    "nc_tsoilfs.close()\n",
    "print('Dataset is closed!')"
   ]
  },
  {
   "cell_type": "code",
   "execution_count": null,
   "metadata": {},
   "outputs": [],
   "source": []
  }
 ],
 "metadata": {
  "colab": {
   "collapsed_sections": [
    "gn4WZtqwY0sO",
    "E5ueO8GnY5Yk",
    "JLG6n6rzjJG3",
    "SfKo-zdW1CQX",
    "eqZi-3eXjD7z",
    "uOuRLzEQgHG0",
    "e3mdHiH9sLco",
    "3l4evo5isGk5",
    "eVSJZPAosAup",
    "JNyjQK91r6Jx",
    "41uOhnmKrzSX"
   ],
   "name": "FaidherbiaFlux DataSet.ipynb",
   "provenance": []
  },
  "kernelspec": {
   "display_name": "Python 3 (ipykernel)",
   "language": "python",
   "name": "python3"
  },
  "language_info": {
   "codemirror_mode": {
    "name": "ipython",
    "version": 3
   },
   "file_extension": ".py",
   "mimetype": "text/x-python",
   "name": "python",
   "nbconvert_exporter": "python",
   "pygments_lexer": "ipython3",
   "version": "3.8.8"
  }
 },
 "nbformat": 4,
 "nbformat_minor": 1
}
