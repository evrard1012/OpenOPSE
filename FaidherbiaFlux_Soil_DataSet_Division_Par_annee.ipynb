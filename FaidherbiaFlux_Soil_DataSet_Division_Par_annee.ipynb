{
 "cells": [
  {
   "cell_type": "markdown",
   "metadata": {
    "id": "mCD5CSk4iMyj"
   },
   "source": [
    "# Traitement du dataset"
   ]
  },
  {
   "cell_type": "code",
   "execution_count": 1,
   "metadata": {
    "id": "4CGFYDLOh_QU"
   },
   "outputs": [],
   "source": [
    "import numpy as np\n",
    "import pandas as pd\n",
    "import datetime"
   ]
  },
  {
   "cell_type": "code",
   "execution_count": 14,
   "metadata": {
    "colab": {
     "base_uri": "https://localhost:8080/",
     "height": 343
    },
    "id": "rrsJLWY-n1pg",
    "outputId": "eb08af54-908f-49ea-b148-56946c6ae8d8"
   },
   "outputs": [
    {
     "data": {
      "text/html": [
       "<div>\n",
       "<style scoped>\n",
       "    .dataframe tbody tr th:only-of-type {\n",
       "        vertical-align: middle;\n",
       "    }\n",
       "\n",
       "    .dataframe tbody tr th {\n",
       "        vertical-align: top;\n",
       "    }\n",
       "\n",
       "    .dataframe thead th {\n",
       "        text-align: right;\n",
       "    }\n",
       "</style>\n",
       "<table border=\"1\" class=\"dataframe\">\n",
       "  <thead>\n",
       "    <tr style=\"text-align: right;\">\n",
       "      <th></th>\n",
       "      <th>DateSemih</th>\n",
       "      <th>CO2Flux_CH1_FS_micmolm2s1</th>\n",
       "      <th>CO2Flux_CH3_FS_micmolm2s1</th>\n",
       "      <th>CO2Flux_CH5_FS_micmolm2s1</th>\n",
       "      <th>CO2Flux_CH7_FS_micmolm2s1</th>\n",
       "      <th>CO2Flux_CH2_Sh_micmolm2s1</th>\n",
       "      <th>CO2Flux_CH4_Sh_micmolm2s1</th>\n",
       "      <th>CO2Flux_CH6_Sh_micmolm2s1</th>\n",
       "      <th>CO2Flux_CH8_Sh_micmolm2s1</th>\n",
       "      <th>CO2Flux_AvFS_micmolm2s1</th>\n",
       "      <th>...</th>\n",
       "      <th>NH3Flux_CH5_FS_nanomolm2s1</th>\n",
       "      <th>NH3Flux_CH7_FS_nanomolm2s1</th>\n",
       "      <th>NH3Flux_CH2_Sh_nanomolm2s1</th>\n",
       "      <th>NH3Flux_CH4_Sh_nanomolm2s1</th>\n",
       "      <th>NH3Flux_CH6_Sh_nanomolm2s1</th>\n",
       "      <th>NH3Flux_CH8_Sh_nanomolm2s1</th>\n",
       "      <th>NH3Flux_AvFS_nanomolm2s1</th>\n",
       "      <th>NH3Flux_AvSh_nanomolm2s1</th>\n",
       "      <th>Rsoil_FS_24h</th>\n",
       "      <th>Rsoil_Sh_24h</th>\n",
       "    </tr>\n",
       "  </thead>\n",
       "  <tbody>\n",
       "    <tr>\n",
       "      <th>0</th>\n",
       "      <td>2018-01-01 00:15:00</td>\n",
       "      <td>NaN</td>\n",
       "      <td>NaN</td>\n",
       "      <td>NaN</td>\n",
       "      <td>NaN</td>\n",
       "      <td>NaN</td>\n",
       "      <td>NaN</td>\n",
       "      <td>NaN</td>\n",
       "      <td>NaN</td>\n",
       "      <td>NaN</td>\n",
       "      <td>...</td>\n",
       "      <td>NaN</td>\n",
       "      <td>NaN</td>\n",
       "      <td>NaN</td>\n",
       "      <td>NaN</td>\n",
       "      <td>NaN</td>\n",
       "      <td>NaN</td>\n",
       "      <td>NaN</td>\n",
       "      <td>NaN</td>\n",
       "      <td>NaN</td>\n",
       "      <td>NaN</td>\n",
       "    </tr>\n",
       "    <tr>\n",
       "      <th>1</th>\n",
       "      <td>2018-01-01 00:45:00</td>\n",
       "      <td>NaN</td>\n",
       "      <td>NaN</td>\n",
       "      <td>NaN</td>\n",
       "      <td>NaN</td>\n",
       "      <td>NaN</td>\n",
       "      <td>NaN</td>\n",
       "      <td>NaN</td>\n",
       "      <td>NaN</td>\n",
       "      <td>NaN</td>\n",
       "      <td>...</td>\n",
       "      <td>NaN</td>\n",
       "      <td>NaN</td>\n",
       "      <td>NaN</td>\n",
       "      <td>NaN</td>\n",
       "      <td>NaN</td>\n",
       "      <td>NaN</td>\n",
       "      <td>NaN</td>\n",
       "      <td>NaN</td>\n",
       "      <td>NaN</td>\n",
       "      <td>NaN</td>\n",
       "    </tr>\n",
       "    <tr>\n",
       "      <th>2</th>\n",
       "      <td>2018-01-01 01:15:00</td>\n",
       "      <td>NaN</td>\n",
       "      <td>NaN</td>\n",
       "      <td>NaN</td>\n",
       "      <td>NaN</td>\n",
       "      <td>NaN</td>\n",
       "      <td>NaN</td>\n",
       "      <td>NaN</td>\n",
       "      <td>NaN</td>\n",
       "      <td>NaN</td>\n",
       "      <td>...</td>\n",
       "      <td>NaN</td>\n",
       "      <td>NaN</td>\n",
       "      <td>NaN</td>\n",
       "      <td>NaN</td>\n",
       "      <td>NaN</td>\n",
       "      <td>NaN</td>\n",
       "      <td>NaN</td>\n",
       "      <td>NaN</td>\n",
       "      <td>NaN</td>\n",
       "      <td>NaN</td>\n",
       "    </tr>\n",
       "    <tr>\n",
       "      <th>3</th>\n",
       "      <td>2018-01-01 01:45:00</td>\n",
       "      <td>NaN</td>\n",
       "      <td>NaN</td>\n",
       "      <td>NaN</td>\n",
       "      <td>NaN</td>\n",
       "      <td>NaN</td>\n",
       "      <td>NaN</td>\n",
       "      <td>NaN</td>\n",
       "      <td>NaN</td>\n",
       "      <td>NaN</td>\n",
       "      <td>...</td>\n",
       "      <td>NaN</td>\n",
       "      <td>NaN</td>\n",
       "      <td>NaN</td>\n",
       "      <td>NaN</td>\n",
       "      <td>NaN</td>\n",
       "      <td>NaN</td>\n",
       "      <td>NaN</td>\n",
       "      <td>NaN</td>\n",
       "      <td>NaN</td>\n",
       "      <td>NaN</td>\n",
       "    </tr>\n",
       "    <tr>\n",
       "      <th>4</th>\n",
       "      <td>2018-01-01 02:15:00</td>\n",
       "      <td>NaN</td>\n",
       "      <td>NaN</td>\n",
       "      <td>NaN</td>\n",
       "      <td>NaN</td>\n",
       "      <td>NaN</td>\n",
       "      <td>NaN</td>\n",
       "      <td>NaN</td>\n",
       "      <td>NaN</td>\n",
       "      <td>NaN</td>\n",
       "      <td>...</td>\n",
       "      <td>NaN</td>\n",
       "      <td>NaN</td>\n",
       "      <td>NaN</td>\n",
       "      <td>NaN</td>\n",
       "      <td>NaN</td>\n",
       "      <td>NaN</td>\n",
       "      <td>NaN</td>\n",
       "      <td>NaN</td>\n",
       "      <td>NaN</td>\n",
       "      <td>NaN</td>\n",
       "    </tr>\n",
       "  </tbody>\n",
       "</table>\n",
       "<p>5 rows × 53 columns</p>\n",
       "</div>"
      ],
      "text/plain": [
       "             DateSemih  CO2Flux_CH1_FS_micmolm2s1  CO2Flux_CH3_FS_micmolm2s1  \\\n",
       "0  2018-01-01 00:15:00                        NaN                        NaN   \n",
       "1  2018-01-01 00:45:00                        NaN                        NaN   \n",
       "2  2018-01-01 01:15:00                        NaN                        NaN   \n",
       "3  2018-01-01 01:45:00                        NaN                        NaN   \n",
       "4  2018-01-01 02:15:00                        NaN                        NaN   \n",
       "\n",
       "   CO2Flux_CH5_FS_micmolm2s1  CO2Flux_CH7_FS_micmolm2s1  \\\n",
       "0                        NaN                        NaN   \n",
       "1                        NaN                        NaN   \n",
       "2                        NaN                        NaN   \n",
       "3                        NaN                        NaN   \n",
       "4                        NaN                        NaN   \n",
       "\n",
       "   CO2Flux_CH2_Sh_micmolm2s1  CO2Flux_CH4_Sh_micmolm2s1  \\\n",
       "0                        NaN                        NaN   \n",
       "1                        NaN                        NaN   \n",
       "2                        NaN                        NaN   \n",
       "3                        NaN                        NaN   \n",
       "4                        NaN                        NaN   \n",
       "\n",
       "   CO2Flux_CH6_Sh_micmolm2s1  CO2Flux_CH8_Sh_micmolm2s1  \\\n",
       "0                        NaN                        NaN   \n",
       "1                        NaN                        NaN   \n",
       "2                        NaN                        NaN   \n",
       "3                        NaN                        NaN   \n",
       "4                        NaN                        NaN   \n",
       "\n",
       "   CO2Flux_AvFS_micmolm2s1  ...  NH3Flux_CH5_FS_nanomolm2s1  \\\n",
       "0                      NaN  ...                         NaN   \n",
       "1                      NaN  ...                         NaN   \n",
       "2                      NaN  ...                         NaN   \n",
       "3                      NaN  ...                         NaN   \n",
       "4                      NaN  ...                         NaN   \n",
       "\n",
       "   NH3Flux_CH7_FS_nanomolm2s1  NH3Flux_CH2_Sh_nanomolm2s1  \\\n",
       "0                         NaN                         NaN   \n",
       "1                         NaN                         NaN   \n",
       "2                         NaN                         NaN   \n",
       "3                         NaN                         NaN   \n",
       "4                         NaN                         NaN   \n",
       "\n",
       "   NH3Flux_CH4_Sh_nanomolm2s1  NH3Flux_CH6_Sh_nanomolm2s1  \\\n",
       "0                         NaN                         NaN   \n",
       "1                         NaN                         NaN   \n",
       "2                         NaN                         NaN   \n",
       "3                         NaN                         NaN   \n",
       "4                         NaN                         NaN   \n",
       "\n",
       "   NH3Flux_CH8_Sh_nanomolm2s1  NH3Flux_AvFS_nanomolm2s1  \\\n",
       "0                         NaN                       NaN   \n",
       "1                         NaN                       NaN   \n",
       "2                         NaN                       NaN   \n",
       "3                         NaN                       NaN   \n",
       "4                         NaN                       NaN   \n",
       "\n",
       "   NH3Flux_AvSh_nanomolm2s1  Rsoil_FS_24h  Rsoil_Sh_24h  \n",
       "0                       NaN           NaN           NaN  \n",
       "1                       NaN           NaN           NaN  \n",
       "2                       NaN           NaN           NaN  \n",
       "3                       NaN           NaN           NaN  \n",
       "4                       NaN           NaN           NaN  \n",
       "\n",
       "[5 rows x 53 columns]"
      ]
     },
     "execution_count": 14,
     "metadata": {},
     "output_type": "execute_result"
    }
   ],
   "source": [
    "data= pd.read_csv(\"/Users/mac/Documents/OPENOPSE/data/seydina Ba/data/OutdataFFlux_OpenOPSE_SoilGHGFluxes.csv\")\n",
    "data.head()"
   ]
  },
  {
   "cell_type": "code",
   "execution_count": 15,
   "metadata": {},
   "outputs": [
    {
     "data": {
      "text/plain": [
       "DateSemih                      object\n",
       "CO2Flux_CH1_FS_micmolm2s1     float64\n",
       "CO2Flux_CH3_FS_micmolm2s1     float64\n",
       "CO2Flux_CH5_FS_micmolm2s1     float64\n",
       "CO2Flux_CH7_FS_micmolm2s1     float64\n",
       "CO2Flux_CH2_Sh_micmolm2s1     float64\n",
       "CO2Flux_CH4_Sh_micmolm2s1     float64\n",
       "CO2Flux_CH6_Sh_micmolm2s1     float64\n",
       "CO2Flux_CH8_Sh_micmolm2s1     float64\n",
       "CO2Flux_AvFS_micmolm2s1       float64\n",
       "CO2Flux_AvSh_micmolm2s1       float64\n",
       "H2OFlux_CH1_FS_mmolm2s1       float64\n",
       "H2OFlux_CH3_FS_mmolm2s1       float64\n",
       "H2OFlux_CH5_FS_mmolm2s1       float64\n",
       "H2OFlux_CH7_FS_mmolm2s1       float64\n",
       "H2OFlux_CH2_Sh_mmolm2s1       float64\n",
       "H2OFlux_CH4_Sh_mmolm2s1       float64\n",
       "H2OFlux_CH6_Sh_mmolm2s1       float64\n",
       "H2OFlux_CH8_Sh_mmolm2s1       float64\n",
       "H2OFlux_AvFS_mmolm2s1         float64\n",
       "H2OFlux_AvSh_mmolm2s1         float64\n",
       "CH4Flux_CH1_FS_micmolm2s1     float64\n",
       "CH4Flux_CH3_FS_micmolm2s1     float64\n",
       "CH4Flux_CH5_FS_micmolm2s1     float64\n",
       "CH4Flux_CH7_FS_micmolm2s1     float64\n",
       "CH4Flux_CH2_Sh_micmolm2s1     float64\n",
       "CH4Flux_CH4_Sh_micmolm2s1     float64\n",
       "CH4Flux_CH6_Sh_micmolm2s1     float64\n",
       "CH4Flux_CH8_Sh_micmolm2s1     float64\n",
       "CH4Flux_AvFS_micmolm2s1       float64\n",
       "CH4Flux_AvSh_micmolm2s1       float64\n",
       "N2OFlux_CH1_FS_micmolm2s1     float64\n",
       "N2OFlux_CH3_FS_micmolm2s1     float64\n",
       "N2OFlux_CH5_FS_micmolm2s1     float64\n",
       "N2OFlux_CH7_FS_micmolm2s1     float64\n",
       "N2OFlux_CH2_Sh_micmolm2s1     float64\n",
       "N2OFlux_CH4_Sh_micmolm2s1     float64\n",
       "N2OFlux_CH6_Sh_micmolm2s1     float64\n",
       "N2OFlux_CH8_Sh_micmolm2s1     float64\n",
       "N2OFlux_AvFS_micmolm2s1       float64\n",
       "N2OFlux_AvSh_micmolm2s1       float64\n",
       "NH3Flux_CH1_FS_nanomolm2s1    float64\n",
       "NH3Flux_CH3_FS_nanomolm2s1    float64\n",
       "NH3Flux_CH5_FS_nanomolm2s1    float64\n",
       "NH3Flux_CH7_FS_nanomolm2s1    float64\n",
       "NH3Flux_CH2_Sh_nanomolm2s1    float64\n",
       "NH3Flux_CH4_Sh_nanomolm2s1    float64\n",
       "NH3Flux_CH6_Sh_nanomolm2s1    float64\n",
       "NH3Flux_CH8_Sh_nanomolm2s1    float64\n",
       "NH3Flux_AvFS_nanomolm2s1      float64\n",
       "NH3Flux_AvSh_nanomolm2s1      float64\n",
       "Rsoil_FS_24h                  float64\n",
       "Rsoil_Sh_24h                  float64\n",
       "dtype: object"
      ]
     },
     "execution_count": 15,
     "metadata": {},
     "output_type": "execute_result"
    }
   ],
   "source": [
    "data.dtypes"
   ]
  },
  {
   "cell_type": "code",
   "execution_count": 16,
   "metadata": {},
   "outputs": [
    {
     "data": {
      "text/plain": [
       "datetime.datetime(2018, 1, 1, 0, 15)"
      ]
     },
     "execution_count": 16,
     "metadata": {},
     "output_type": "execute_result"
    }
   ],
   "source": [
    "datetime.datetime.fromisoformat('2018-01-01 00:15:00')"
   ]
  },
  {
   "cell_type": "code",
   "execution_count": 17,
   "metadata": {},
   "outputs": [],
   "source": [
    "dates = [str(datetime.datetime.fromisoformat(x)) for x in data.DateSemih]\n",
    "data['DateSemih']= dates"
   ]
  },
  {
   "cell_type": "code",
   "execution_count": 18,
   "metadata": {},
   "outputs": [],
   "source": [
    "annees = [x.split('-',1)[0] for x in data.DateSemih]\n",
    "data['Year']= annees\n",
    "data=data.astype({'Year': 'int64'})"
   ]
  },
  {
   "cell_type": "code",
   "execution_count": 19,
   "metadata": {},
   "outputs": [],
   "source": [
    "Date_fac = [x.split(' ',1)[0] for x in data.DateSemih]\n",
    "data['Date_fac']= Date_fac"
   ]
  },
  {
   "cell_type": "code",
   "execution_count": 20,
   "metadata": {},
   "outputs": [],
   "source": [
    "Hour_fac = [x.split(' ',1)[1] for x in data.DateSemih]\n",
    "data['Hour_fac']= Hour_fac"
   ]
  },
  {
   "cell_type": "code",
   "execution_count": 21,
   "metadata": {},
   "outputs": [
    {
     "data": {
      "text/plain": [
       "Index(['DateSemih', 'CO2Flux_CH1_FS_micmolm2s1', 'CO2Flux_CH3_FS_micmolm2s1',\n",
       "       'CO2Flux_CH5_FS_micmolm2s1', 'CO2Flux_CH7_FS_micmolm2s1',\n",
       "       'CO2Flux_CH2_Sh_micmolm2s1', 'CO2Flux_CH4_Sh_micmolm2s1',\n",
       "       'CO2Flux_CH6_Sh_micmolm2s1', 'CO2Flux_CH8_Sh_micmolm2s1',\n",
       "       'CO2Flux_AvFS_micmolm2s1', 'CO2Flux_AvSh_micmolm2s1',\n",
       "       'H2OFlux_CH1_FS_mmolm2s1', 'H2OFlux_CH3_FS_mmolm2s1',\n",
       "       'H2OFlux_CH5_FS_mmolm2s1', 'H2OFlux_CH7_FS_mmolm2s1',\n",
       "       'H2OFlux_CH2_Sh_mmolm2s1', 'H2OFlux_CH4_Sh_mmolm2s1',\n",
       "       'H2OFlux_CH6_Sh_mmolm2s1', 'H2OFlux_CH8_Sh_mmolm2s1',\n",
       "       'H2OFlux_AvFS_mmolm2s1', 'H2OFlux_AvSh_mmolm2s1',\n",
       "       'CH4Flux_CH1_FS_micmolm2s1', 'CH4Flux_CH3_FS_micmolm2s1',\n",
       "       'CH4Flux_CH5_FS_micmolm2s1', 'CH4Flux_CH7_FS_micmolm2s1',\n",
       "       'CH4Flux_CH2_Sh_micmolm2s1', 'CH4Flux_CH4_Sh_micmolm2s1',\n",
       "       'CH4Flux_CH6_Sh_micmolm2s1', 'CH4Flux_CH8_Sh_micmolm2s1',\n",
       "       'CH4Flux_AvFS_micmolm2s1', 'CH4Flux_AvSh_micmolm2s1',\n",
       "       'N2OFlux_CH1_FS_micmolm2s1', 'N2OFlux_CH3_FS_micmolm2s1',\n",
       "       'N2OFlux_CH5_FS_micmolm2s1', 'N2OFlux_CH7_FS_micmolm2s1',\n",
       "       'N2OFlux_CH2_Sh_micmolm2s1', 'N2OFlux_CH4_Sh_micmolm2s1',\n",
       "       'N2OFlux_CH6_Sh_micmolm2s1', 'N2OFlux_CH8_Sh_micmolm2s1',\n",
       "       'N2OFlux_AvFS_micmolm2s1', 'N2OFlux_AvSh_micmolm2s1',\n",
       "       'NH3Flux_CH1_FS_nanomolm2s1', 'NH3Flux_CH3_FS_nanomolm2s1',\n",
       "       'NH3Flux_CH5_FS_nanomolm2s1', 'NH3Flux_CH7_FS_nanomolm2s1',\n",
       "       'NH3Flux_CH2_Sh_nanomolm2s1', 'NH3Flux_CH4_Sh_nanomolm2s1',\n",
       "       'NH3Flux_CH6_Sh_nanomolm2s1', 'NH3Flux_CH8_Sh_nanomolm2s1',\n",
       "       'NH3Flux_AvFS_nanomolm2s1', 'NH3Flux_AvSh_nanomolm2s1', 'Rsoil_FS_24h',\n",
       "       'Rsoil_Sh_24h', 'Year', 'Date_fac', 'Hour_fac'],\n",
       "      dtype='object')"
      ]
     },
     "execution_count": 21,
     "metadata": {},
     "output_type": "execute_result"
    }
   ],
   "source": [
    "data.columns"
   ]
  },
  {
   "cell_type": "code",
   "execution_count": 10,
   "metadata": {},
   "outputs": [
    {
     "data": {
      "text/html": [
       "<div>\n",
       "<style scoped>\n",
       "    .dataframe tbody tr th:only-of-type {\n",
       "        vertical-align: middle;\n",
       "    }\n",
       "\n",
       "    .dataframe tbody tr th {\n",
       "        vertical-align: top;\n",
       "    }\n",
       "\n",
       "    .dataframe thead th {\n",
       "        text-align: right;\n",
       "    }\n",
       "</style>\n",
       "<table border=\"1\" class=\"dataframe\">\n",
       "  <thead>\n",
       "    <tr style=\"text-align: right;\">\n",
       "      <th></th>\n",
       "      <th>Year</th>\n",
       "      <th>Date_fac</th>\n",
       "      <th>Hour_fac</th>\n",
       "      <th>DateSemih</th>\n",
       "      <th>WoodVWC_1_tree5_pc</th>\n",
       "      <th>WoodVWC_2_tree5_pc</th>\n",
       "      <th>WoodT_1_tree5_degC</th>\n",
       "      <th>WoodT_2_tree5_degC</th>\n",
       "      <th>WoodEC_1_tree5_dSm1</th>\n",
       "      <th>WoodEC_2_tree5_dSm1</th>\n",
       "      <th>WoodVWC_tree27_pc</th>\n",
       "      <th>WoodT_tree27_degC</th>\n",
       "      <th>WoodEC_tree27_dSm1</th>\n",
       "    </tr>\n",
       "  </thead>\n",
       "  <tbody>\n",
       "    <tr>\n",
       "      <th>0</th>\n",
       "      <td>2018</td>\n",
       "      <td>2018-01-01</td>\n",
       "      <td>00:15:00</td>\n",
       "      <td>2018-01-01 00:15:00</td>\n",
       "      <td>NaN</td>\n",
       "      <td>NaN</td>\n",
       "      <td>NaN</td>\n",
       "      <td>NaN</td>\n",
       "      <td>NaN</td>\n",
       "      <td>NaN</td>\n",
       "      <td>NaN</td>\n",
       "      <td>NaN</td>\n",
       "      <td>NaN</td>\n",
       "    </tr>\n",
       "    <tr>\n",
       "      <th>1</th>\n",
       "      <td>2018</td>\n",
       "      <td>2018-01-01</td>\n",
       "      <td>00:45:00</td>\n",
       "      <td>2018-01-01 00:45:00</td>\n",
       "      <td>NaN</td>\n",
       "      <td>NaN</td>\n",
       "      <td>NaN</td>\n",
       "      <td>NaN</td>\n",
       "      <td>NaN</td>\n",
       "      <td>NaN</td>\n",
       "      <td>NaN</td>\n",
       "      <td>NaN</td>\n",
       "      <td>NaN</td>\n",
       "    </tr>\n",
       "    <tr>\n",
       "      <th>2</th>\n",
       "      <td>2018</td>\n",
       "      <td>2018-01-01</td>\n",
       "      <td>01:15:00</td>\n",
       "      <td>2018-01-01 01:15:00</td>\n",
       "      <td>NaN</td>\n",
       "      <td>NaN</td>\n",
       "      <td>NaN</td>\n",
       "      <td>NaN</td>\n",
       "      <td>NaN</td>\n",
       "      <td>NaN</td>\n",
       "      <td>NaN</td>\n",
       "      <td>NaN</td>\n",
       "      <td>NaN</td>\n",
       "    </tr>\n",
       "    <tr>\n",
       "      <th>3</th>\n",
       "      <td>2018</td>\n",
       "      <td>2018-01-01</td>\n",
       "      <td>01:45:00</td>\n",
       "      <td>2018-01-01 01:45:00</td>\n",
       "      <td>NaN</td>\n",
       "      <td>NaN</td>\n",
       "      <td>NaN</td>\n",
       "      <td>NaN</td>\n",
       "      <td>NaN</td>\n",
       "      <td>NaN</td>\n",
       "      <td>NaN</td>\n",
       "      <td>NaN</td>\n",
       "      <td>NaN</td>\n",
       "    </tr>\n",
       "    <tr>\n",
       "      <th>4</th>\n",
       "      <td>2018</td>\n",
       "      <td>2018-01-01</td>\n",
       "      <td>02:15:00</td>\n",
       "      <td>2018-01-01 02:15:00</td>\n",
       "      <td>NaN</td>\n",
       "      <td>NaN</td>\n",
       "      <td>NaN</td>\n",
       "      <td>NaN</td>\n",
       "      <td>NaN</td>\n",
       "      <td>NaN</td>\n",
       "      <td>NaN</td>\n",
       "      <td>NaN</td>\n",
       "      <td>NaN</td>\n",
       "    </tr>\n",
       "  </tbody>\n",
       "</table>\n",
       "</div>"
      ],
      "text/plain": [
       "   Year    Date_fac  Hour_fac            DateSemih  WoodVWC_1_tree5_pc  \\\n",
       "0  2018  2018-01-01  00:15:00  2018-01-01 00:15:00                 NaN   \n",
       "1  2018  2018-01-01  00:45:00  2018-01-01 00:45:00                 NaN   \n",
       "2  2018  2018-01-01  01:15:00  2018-01-01 01:15:00                 NaN   \n",
       "3  2018  2018-01-01  01:45:00  2018-01-01 01:45:00                 NaN   \n",
       "4  2018  2018-01-01  02:15:00  2018-01-01 02:15:00                 NaN   \n",
       "\n",
       "   WoodVWC_2_tree5_pc  WoodT_1_tree5_degC  WoodT_2_tree5_degC  \\\n",
       "0                 NaN                 NaN                 NaN   \n",
       "1                 NaN                 NaN                 NaN   \n",
       "2                 NaN                 NaN                 NaN   \n",
       "3                 NaN                 NaN                 NaN   \n",
       "4                 NaN                 NaN                 NaN   \n",
       "\n",
       "   WoodEC_1_tree5_dSm1  WoodEC_2_tree5_dSm1  WoodVWC_tree27_pc  \\\n",
       "0                  NaN                  NaN                NaN   \n",
       "1                  NaN                  NaN                NaN   \n",
       "2                  NaN                  NaN                NaN   \n",
       "3                  NaN                  NaN                NaN   \n",
       "4                  NaN                  NaN                NaN   \n",
       "\n",
       "   WoodT_tree27_degC  WoodEC_tree27_dSm1  \n",
       "0                NaN                 NaN  \n",
       "1                NaN                 NaN  \n",
       "2                NaN                 NaN  \n",
       "3                NaN                 NaN  \n",
       "4                NaN                 NaN  "
      ]
     },
     "execution_count": 10,
     "metadata": {},
     "output_type": "execute_result"
    }
   ],
   "source": [
    "\n",
    "data=data[['Year','Date_fac','Hour_fac','DateSemih', 'WoodVWC_1_tree5_pc', 'WoodVWC_2_tree5_pc',\n",
    "       'WoodT_1_tree5_degC', 'WoodT_2_tree5_degC', 'WoodEC_1_tree5_dSm1',\n",
    "       'WoodEC_2_tree5_dSm1', 'WoodVWC_tree27_pc', 'WoodT_tree27_degC',\n",
    "       'WoodEC_tree27_dSm1']]\n",
    "\n",
    "data.head()"
   ]
  },
  {
   "cell_type": "code",
   "execution_count": 25,
   "metadata": {},
   "outputs": [],
   "source": [
    "data=data.fillna(0)"
   ]
  },
  {
   "cell_type": "markdown",
   "metadata": {
    "id": "vZ0bGpfFzD5O"
   },
   "source": [
    "# creation des dataframe"
   ]
  },
  {
   "cell_type": "markdown",
   "metadata": {
    "id": "E5ueO8GnY5Yk"
   },
   "source": [
    "## segmentation du jeu de données"
   ]
  },
  {
   "cell_type": "code",
   "execution_count": 26,
   "metadata": {},
   "outputs": [
    {
     "data": {
      "text/plain": [
       "array([2018, 2019, 2020, 2021, 2022])"
      ]
     },
     "execution_count": 26,
     "metadata": {},
     "output_type": "execute_result"
    }
   ],
   "source": [
    "annee = data['Year'].unique()\n",
    "annee"
   ]
  },
  {
   "cell_type": "markdown",
   "metadata": {
    "id": "JLG6n6rzjJG3"
   },
   "source": [
    "## sauvegarder les jeux de données segmentés"
   ]
  },
  {
   "cell_type": "code",
   "execution_count": 27,
   "metadata": {},
   "outputs": [],
   "source": [
    "for y in annee:\n",
    "    save = data[data['Year'] == y]\n",
    "    name = '/Users/mac/Documents/OPENOPSE/data/seydina Ba/data/'+str(y)+'/OutdataFFlux_OpenOPSE_SoilGHGFluxes_'+str(y)+'.csv'\n",
    "    save.to_csv(name, index=False)"
   ]
  },
  {
   "cell_type": "code",
   "execution_count": null,
   "metadata": {},
   "outputs": [],
   "source": []
  }
 ],
 "metadata": {
  "colab": {
   "collapsed_sections": [
    "gn4WZtqwY0sO",
    "E5ueO8GnY5Yk",
    "JLG6n6rzjJG3",
    "SfKo-zdW1CQX",
    "eqZi-3eXjD7z",
    "uOuRLzEQgHG0",
    "e3mdHiH9sLco",
    "3l4evo5isGk5",
    "eVSJZPAosAup",
    "JNyjQK91r6Jx",
    "41uOhnmKrzSX"
   ],
   "name": "FaidherbiaFlux DataSet.ipynb",
   "provenance": []
  },
  "kernelspec": {
   "display_name": "Python 3 (ipykernel)",
   "language": "python",
   "name": "python3"
  },
  "language_info": {
   "codemirror_mode": {
    "name": "ipython",
    "version": 3
   },
   "file_extension": ".py",
   "mimetype": "text/x-python",
   "name": "python",
   "nbconvert_exporter": "python",
   "pygments_lexer": "ipython3",
   "version": "3.9.7"
  }
 },
 "nbformat": 4,
 "nbformat_minor": 1
}
